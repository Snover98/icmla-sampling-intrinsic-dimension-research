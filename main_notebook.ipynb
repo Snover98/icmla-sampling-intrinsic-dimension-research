{
 "cells": [
  {
   "cell_type": "code",
   "id": "initial_id",
   "metadata": {
    "collapsed": true
   },
   "source": [
    "from functools import partial\n",
    "from typing import Callable, Any, Final"
   ],
   "outputs": [],
   "execution_count": null
  },
  {
   "metadata": {},
   "cell_type": "code",
   "source": [
    "import numpy as np\n",
    "import pandas as pd\n",
    "from tqdm import tqdm\n",
    "from pprint import pprint"
   ],
   "id": "753af13ced6c8301",
   "outputs": [],
   "execution_count": null
  },
  {
   "metadata": {},
   "cell_type": "code",
   "source": [
    "from dataset_subset import sample_dataset_random, sample_dataset_jls_kmeans\n",
    "from train_dataset import train_cfar, train_svhn, train_mnist"
   ],
   "id": "48779e5a88acfb1b",
   "outputs": [],
   "execution_count": null
  },
  {
   "metadata": {},
   "cell_type": "code",
   "source": "BASE_SEED: Final[int] = 206783441",
   "id": "bb69d915f20feca6",
   "outputs": [],
   "execution_count": null
  },
  {
   "metadata": {},
   "cell_type": "code",
   "source": [
    "DATASET_IMPLICIT_DIMS: dict[str, int] = {\n",
    "    \"MNIST\": 11,\n",
    "    \"SVHN\": 14,\n",
    "    \"CIFAR-10\": 21\n",
    "}"
   ],
   "id": "f05203484727edc8",
   "outputs": [],
   "execution_count": null
  },
  {
   "metadata": {},
   "cell_type": "markdown",
   "source": "Calculate the different values for functions of $d_{ID}$",
   "id": "6c2b304ce98fb396"
  },
  {
   "metadata": {},
   "cell_type": "code",
   "source": [
    "dims_df = pd.DataFrame.from_dict(DATASET_IMPLICIT_DIMS, orient='index', columns=['d'])\n",
    "dims_df['2d'] = 2 * dims_df['d']\n",
    "dims_df['5d'] = 5 * dims_df['d']\n",
    "dims_df['d*ln(d)'] = dims_df['d'] * np.log(dims_df['d'])\n",
    "dims_df['d*log2(d)'] = dims_df['d'] * np.log2(dims_df['d'])\n",
    "dims_df['d^1.5*ln(d)'] = dims_df['d*ln(d)'] * np.sqrt(dims_df['d'])\n",
    "dims_df['d^2'] = np.power(dims_df['d'], 2)\n",
    "dims_df"
   ],
   "id": "1c684be68060f9b7",
   "outputs": [],
   "execution_count": null
  },
  {
   "metadata": {},
   "cell_type": "markdown",
   "source": "Round the dimensions since we can only use positive integers",
   "id": "5efd344ae70b411c"
  },
  {
   "metadata": {},
   "cell_type": "code",
   "source": [
    "dims_df = dims_df.round().astype(int)\n",
    "dims_df"
   ],
   "id": "ff8008ac2a68e159",
   "outputs": [],
   "execution_count": null
  },
  {
   "metadata": {},
   "cell_type": "code",
   "source": [
    "def train_model(model_name: str, sample_func: Callable[[np.ndarray[float]], list[int]], base_seed: int, num_runs: int = 10) -> list[float]:\n",
    "    train_func: Callable[[Callable[[np.ndarray[float]], list[int]]], tuple[Any, float, float]]\n",
    "    if model_name.upper() == 'MNIST':\n",
    "        train_func = train_mnist\n",
    "    elif model_name.upper() == 'SVHN':\n",
    "        train_func = train_svhn\n",
    "    else:\n",
    "        train_func = train_cfar\n",
    "\n",
    "    return [max(train_func(partial(sample_func, random_seed=base_seed + i), seed=base_seed+i)[1]) for i in tqdm(range(num_runs))]\n"
   ],
   "id": "b2b9078a6cc87801",
   "outputs": [],
   "execution_count": null
  },
  {
   "metadata": {},
   "cell_type": "code",
   "source": "train_results: dict[str, dict[str, list[float]]] = dict()",
   "id": "99c2c791f312901",
   "outputs": [],
   "execution_count": null
  },
  {
   "metadata": {},
   "cell_type": "code",
   "source": [
    "for model in dims_df.index[::-1]:\n",
    "    print('='*50)\n",
    "    print(model.center(50, '='))\n",
    "    print('='*50)\n",
    "    print(f'{model} baseline:')\n",
    "    train_results[model] = {'baseline': train_model(model, partial(sample_dataset_random, n_samples=100), base_seed=BASE_SEED)}\n",
    "    for jls_dim in dims_df.columns:\n",
    "        print(f'{model} with {jls_dim=}:')\n",
    "        train_results[model][jls_dim] = train_model(model,\n",
    "                                                    partial(sample_dataset_jls_kmeans, n_samples=100, jls_dim=dims_df.loc[model, jls_dim]),\n",
    "                                                    base_seed=BASE_SEED)\n",
    "    print(f\"Results for {model=}:\")\n",
    "    pprint(pprint, indent=4)\n",
    "    print()"
   ],
   "id": "10be5cf77e9d4b14",
   "outputs": [],
   "execution_count": null
  },
  {
   "metadata": {},
   "cell_type": "code",
   "source": "train_results",
   "id": "5de961b5373b546c",
   "outputs": [],
   "execution_count": null
  }
 ],
 "metadata": {
  "kernelspec": {
   "display_name": "Python 3",
   "language": "python",
   "name": "python3"
  },
  "language_info": {
   "codemirror_mode": {
    "name": "ipython",
    "version": 2
   },
   "file_extension": ".py",
   "mimetype": "text/x-python",
   "name": "python",
   "nbconvert_exporter": "python",
   "pygments_lexer": "ipython2",
   "version": "2.7.6"
  }
 },
 "nbformat": 4,
 "nbformat_minor": 5
}
