{
 "cells": [
  {
   "cell_type": "code",
   "id": "initial_id",
   "metadata": {
    "collapsed": true,
    "ExecuteTime": {
     "end_time": "2025-02-22T09:43:10.678250Z",
     "start_time": "2025-02-22T09:43:10.671996Z"
    }
   },
   "source": [
    "import numpy as np\n",
    "import pandas as pd\n",
    "import matplotlib.pyplot as plt"
   ],
   "outputs": [],
   "execution_count": 15
  },
  {
   "metadata": {
    "ExecuteTime": {
     "end_time": "2025-02-22T09:43:10.742117Z",
     "start_time": "2025-02-22T09:43:10.736219Z"
    }
   },
   "cell_type": "code",
   "source": [
    "DATASET_IMPLICIT_DIMS: dict[str, int] = {\n",
    "    \"MNIST\": 11,\n",
    "    \"SVHN\": 14,\n",
    "    \"CIFAR-10\": 21\n",
    "}"
   ],
   "id": "f05203484727edc8",
   "outputs": [],
   "execution_count": 16
  },
  {
   "metadata": {
    "ExecuteTime": {
     "end_time": "2025-02-22T09:43:36.789773Z",
     "start_time": "2025-02-22T09:43:36.767095Z"
    }
   },
   "cell_type": "code",
   "source": [
    "dims_df = pd.DataFrame.from_dict(DATASET_IMPLICIT_DIMS, orient='index', columns=['d'])\n",
    "dims_df['2d'] = 2 * dims_df['d']\n",
    "dims_df['5d'] = 5 * dims_df['d']\n",
    "dims_df['d*ln(d)'] = dims_df['d'] * np.log(dims_df['d'])\n",
    "dims_df['d*log2(d)'] = dims_df['d'] * np.log2(dims_df['d'])\n",
    "dims_df['d^1.5*ln(d)'] = dims_df['d*ln(d)'] * np.sqrt(dims_df['d'])\n",
    "dims_df['d^2'] = np.pow(dims_df['d'], 2)\n",
    "dims_df"
   ],
   "id": "1c684be68060f9b7",
   "outputs": [
    {
     "data": {
      "text/plain": [
       "           d  2d   5d    d*ln(d)  d*log2(d)  d^1.5*ln(d)  d^2\n",
       "MNIST     11  22   55  26.376848  38.053748    87.482108  121\n",
       "SVHN      14  28   70  36.946803  53.302969   138.242277  196\n",
       "CIFAR-10  21  42  105  63.934971  92.238666   292.986845  441"
      ],
      "text/html": [
       "<div>\n",
       "<style scoped>\n",
       "    .dataframe tbody tr th:only-of-type {\n",
       "        vertical-align: middle;\n",
       "    }\n",
       "\n",
       "    .dataframe tbody tr th {\n",
       "        vertical-align: top;\n",
       "    }\n",
       "\n",
       "    .dataframe thead th {\n",
       "        text-align: right;\n",
       "    }\n",
       "</style>\n",
       "<table border=\"1\" class=\"dataframe\">\n",
       "  <thead>\n",
       "    <tr style=\"text-align: right;\">\n",
       "      <th></th>\n",
       "      <th>d</th>\n",
       "      <th>2d</th>\n",
       "      <th>5d</th>\n",
       "      <th>d*ln(d)</th>\n",
       "      <th>d*log2(d)</th>\n",
       "      <th>d^1.5*ln(d)</th>\n",
       "      <th>d^2</th>\n",
       "    </tr>\n",
       "  </thead>\n",
       "  <tbody>\n",
       "    <tr>\n",
       "      <th>MNIST</th>\n",
       "      <td>11</td>\n",
       "      <td>22</td>\n",
       "      <td>55</td>\n",
       "      <td>26.376848</td>\n",
       "      <td>38.053748</td>\n",
       "      <td>87.482108</td>\n",
       "      <td>121</td>\n",
       "    </tr>\n",
       "    <tr>\n",
       "      <th>SVHN</th>\n",
       "      <td>14</td>\n",
       "      <td>28</td>\n",
       "      <td>70</td>\n",
       "      <td>36.946803</td>\n",
       "      <td>53.302969</td>\n",
       "      <td>138.242277</td>\n",
       "      <td>196</td>\n",
       "    </tr>\n",
       "    <tr>\n",
       "      <th>CIFAR-10</th>\n",
       "      <td>21</td>\n",
       "      <td>42</td>\n",
       "      <td>105</td>\n",
       "      <td>63.934971</td>\n",
       "      <td>92.238666</td>\n",
       "      <td>292.986845</td>\n",
       "      <td>441</td>\n",
       "    </tr>\n",
       "  </tbody>\n",
       "</table>\n",
       "</div>"
      ]
     },
     "execution_count": 18,
     "metadata": {},
     "output_type": "execute_result"
    }
   ],
   "execution_count": 18
  },
  {
   "metadata": {
    "ExecuteTime": {
     "end_time": "2025-02-22T09:43:40.929084Z",
     "start_time": "2025-02-22T09:43:40.915440Z"
    }
   },
   "cell_type": "code",
   "source": [
    "dims_df = dims_df.round().astype(int)\n",
    "dims_df"
   ],
   "id": "ff8008ac2a68e159",
   "outputs": [
    {
     "data": {
      "text/plain": [
       "           d  2d   5d  d*ln(d)  d*log2(d)  d^1.5*ln(d)  d^2\n",
       "MNIST     11  22   55       26         38           87  121\n",
       "SVHN      14  28   70       37         53          138  196\n",
       "CIFAR-10  21  42  105       64         92          293  441"
      ],
      "text/html": [
       "<div>\n",
       "<style scoped>\n",
       "    .dataframe tbody tr th:only-of-type {\n",
       "        vertical-align: middle;\n",
       "    }\n",
       "\n",
       "    .dataframe tbody tr th {\n",
       "        vertical-align: top;\n",
       "    }\n",
       "\n",
       "    .dataframe thead th {\n",
       "        text-align: right;\n",
       "    }\n",
       "</style>\n",
       "<table border=\"1\" class=\"dataframe\">\n",
       "  <thead>\n",
       "    <tr style=\"text-align: right;\">\n",
       "      <th></th>\n",
       "      <th>d</th>\n",
       "      <th>2d</th>\n",
       "      <th>5d</th>\n",
       "      <th>d*ln(d)</th>\n",
       "      <th>d*log2(d)</th>\n",
       "      <th>d^1.5*ln(d)</th>\n",
       "      <th>d^2</th>\n",
       "    </tr>\n",
       "  </thead>\n",
       "  <tbody>\n",
       "    <tr>\n",
       "      <th>MNIST</th>\n",
       "      <td>11</td>\n",
       "      <td>22</td>\n",
       "      <td>55</td>\n",
       "      <td>26</td>\n",
       "      <td>38</td>\n",
       "      <td>87</td>\n",
       "      <td>121</td>\n",
       "    </tr>\n",
       "    <tr>\n",
       "      <th>SVHN</th>\n",
       "      <td>14</td>\n",
       "      <td>28</td>\n",
       "      <td>70</td>\n",
       "      <td>37</td>\n",
       "      <td>53</td>\n",
       "      <td>138</td>\n",
       "      <td>196</td>\n",
       "    </tr>\n",
       "    <tr>\n",
       "      <th>CIFAR-10</th>\n",
       "      <td>21</td>\n",
       "      <td>42</td>\n",
       "      <td>105</td>\n",
       "      <td>64</td>\n",
       "      <td>92</td>\n",
       "      <td>293</td>\n",
       "      <td>441</td>\n",
       "    </tr>\n",
       "  </tbody>\n",
       "</table>\n",
       "</div>"
      ]
     },
     "execution_count": 19,
     "metadata": {},
     "output_type": "execute_result"
    }
   ],
   "execution_count": 19
  },
  {
   "metadata": {
    "ExecuteTime": {
     "end_time": "2025-02-22T09:43:14.627733800Z",
     "start_time": "2025-02-22T09:30:31.467406Z"
    }
   },
   "cell_type": "code",
   "source": "",
   "id": "99c2c791f312901",
   "outputs": [],
   "execution_count": null
  }
 ],
 "metadata": {
  "kernelspec": {
   "display_name": "Python 3",
   "language": "python",
   "name": "python3"
  },
  "language_info": {
   "codemirror_mode": {
    "name": "ipython",
    "version": 2
   },
   "file_extension": ".py",
   "mimetype": "text/x-python",
   "name": "python",
   "nbconvert_exporter": "python",
   "pygments_lexer": "ipython2",
   "version": "2.7.6"
  }
 },
 "nbformat": 4,
 "nbformat_minor": 5
}
