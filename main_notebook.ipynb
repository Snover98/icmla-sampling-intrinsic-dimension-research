{
 "cells": [
  {
   "cell_type": "code",
   "id": "initial_id",
   "metadata": {
    "collapsed": true,
    "ExecuteTime": {
     "end_time": "2025-02-22T09:03:12.206871Z",
     "start_time": "2025-02-22T09:03:08.377035Z"
    }
   },
   "source": [
    "import numpy as np\n",
    "import pandas as pd\n",
    "import matplotlib.pyplot as plt"
   ],
   "outputs": [],
   "execution_count": 2
  },
  {
   "metadata": {
    "ExecuteTime": {
     "end_time": "2025-02-22T09:03:12.225314Z",
     "start_time": "2025-02-22T09:03:12.218111Z"
    }
   },
   "cell_type": "code",
   "source": [
    "DATASET_IMPLICIT_DIMS: dict[str, int] = {\n",
    "    \"MNIST\": 11,\n",
    "    \"SVHN\": 14,\n",
    "    \"CIFAR-10\": 21\n",
    "}"
   ],
   "id": "f05203484727edc8",
   "outputs": [],
   "execution_count": 3
  },
  {
   "metadata": {
    "ExecuteTime": {
     "end_time": "2025-02-22T09:19:16.226167Z",
     "start_time": "2025-02-22T09:19:16.208228Z"
    }
   },
   "cell_type": "code",
   "source": [
    "dims_df = pd.DataFrame.from_dict(DATASET_IMPLICIT_DIMS, orient='index', columns=['d'])\n",
    "dims_df['2d'] = 2 * dims_df['d']\n",
    "dims_df['5d'] = 5 * dims_df['d']\n",
    "dims_df['d*ln(d)'] = dims_df['d'] * np.log(dims_df['d'])\n",
    "dims_df['d*log(d)'] = dims_df['d'] * np.log2(dims_df['d'])\n",
    "dims_df['d^1.5'] = np.pow(dims_df['d'], 1.5)\n",
    "dims_df['d^2'] = np.pow(dims_df['d'], 2)\n",
    "dims_df"
   ],
   "id": "1c684be68060f9b7",
   "outputs": [
    {
     "data": {
      "text/plain": [
       "           d  2d   5d    d*ln(d)   d*log(d)      d^1.5  d^2\n",
       "MNIST     11  22   55  26.376848  38.053748  36.482873  121\n",
       "SVHN      14  28   70  36.946803  53.302969  52.383203  196\n",
       "CIFAR-10  21  42  105  63.934971  92.238666  96.234090  441"
      ],
      "text/html": [
       "<div>\n",
       "<style scoped>\n",
       "    .dataframe tbody tr th:only-of-type {\n",
       "        vertical-align: middle;\n",
       "    }\n",
       "\n",
       "    .dataframe tbody tr th {\n",
       "        vertical-align: top;\n",
       "    }\n",
       "\n",
       "    .dataframe thead th {\n",
       "        text-align: right;\n",
       "    }\n",
       "</style>\n",
       "<table border=\"1\" class=\"dataframe\">\n",
       "  <thead>\n",
       "    <tr style=\"text-align: right;\">\n",
       "      <th></th>\n",
       "      <th>d</th>\n",
       "      <th>2d</th>\n",
       "      <th>5d</th>\n",
       "      <th>d*ln(d)</th>\n",
       "      <th>d*log(d)</th>\n",
       "      <th>d^1.5</th>\n",
       "      <th>d^2</th>\n",
       "    </tr>\n",
       "  </thead>\n",
       "  <tbody>\n",
       "    <tr>\n",
       "      <th>MNIST</th>\n",
       "      <td>11</td>\n",
       "      <td>22</td>\n",
       "      <td>55</td>\n",
       "      <td>26.376848</td>\n",
       "      <td>38.053748</td>\n",
       "      <td>36.482873</td>\n",
       "      <td>121</td>\n",
       "    </tr>\n",
       "    <tr>\n",
       "      <th>SVHN</th>\n",
       "      <td>14</td>\n",
       "      <td>28</td>\n",
       "      <td>70</td>\n",
       "      <td>36.946803</td>\n",
       "      <td>53.302969</td>\n",
       "      <td>52.383203</td>\n",
       "      <td>196</td>\n",
       "    </tr>\n",
       "    <tr>\n",
       "      <th>CIFAR-10</th>\n",
       "      <td>21</td>\n",
       "      <td>42</td>\n",
       "      <td>105</td>\n",
       "      <td>63.934971</td>\n",
       "      <td>92.238666</td>\n",
       "      <td>96.234090</td>\n",
       "      <td>441</td>\n",
       "    </tr>\n",
       "  </tbody>\n",
       "</table>\n",
       "</div>"
      ]
     },
     "execution_count": 17,
     "metadata": {},
     "output_type": "execute_result"
    }
   ],
   "execution_count": 17
  },
  {
   "metadata": {
    "ExecuteTime": {
     "end_time": "2025-02-22T09:19:16.597509Z",
     "start_time": "2025-02-22T09:19:16.584184Z"
    }
   },
   "cell_type": "code",
   "source": [
    "dims_df = np.round(dims_df).astype(int)\n",
    "dims_df"
   ],
   "id": "ff8008ac2a68e159",
   "outputs": [
    {
     "data": {
      "text/plain": [
       "           d  2d   5d  d*ln(d)  d*log(d)  d^1.5  d^2\n",
       "MNIST     11  22   55       26        38     36  121\n",
       "SVHN      14  28   70       37        53     52  196\n",
       "CIFAR-10  21  42  105       64        92     96  441"
      ],
      "text/html": [
       "<div>\n",
       "<style scoped>\n",
       "    .dataframe tbody tr th:only-of-type {\n",
       "        vertical-align: middle;\n",
       "    }\n",
       "\n",
       "    .dataframe tbody tr th {\n",
       "        vertical-align: top;\n",
       "    }\n",
       "\n",
       "    .dataframe thead th {\n",
       "        text-align: right;\n",
       "    }\n",
       "</style>\n",
       "<table border=\"1\" class=\"dataframe\">\n",
       "  <thead>\n",
       "    <tr style=\"text-align: right;\">\n",
       "      <th></th>\n",
       "      <th>d</th>\n",
       "      <th>2d</th>\n",
       "      <th>5d</th>\n",
       "      <th>d*ln(d)</th>\n",
       "      <th>d*log(d)</th>\n",
       "      <th>d^1.5</th>\n",
       "      <th>d^2</th>\n",
       "    </tr>\n",
       "  </thead>\n",
       "  <tbody>\n",
       "    <tr>\n",
       "      <th>MNIST</th>\n",
       "      <td>11</td>\n",
       "      <td>22</td>\n",
       "      <td>55</td>\n",
       "      <td>26</td>\n",
       "      <td>38</td>\n",
       "      <td>36</td>\n",
       "      <td>121</td>\n",
       "    </tr>\n",
       "    <tr>\n",
       "      <th>SVHN</th>\n",
       "      <td>14</td>\n",
       "      <td>28</td>\n",
       "      <td>70</td>\n",
       "      <td>37</td>\n",
       "      <td>53</td>\n",
       "      <td>52</td>\n",
       "      <td>196</td>\n",
       "    </tr>\n",
       "    <tr>\n",
       "      <th>CIFAR-10</th>\n",
       "      <td>21</td>\n",
       "      <td>42</td>\n",
       "      <td>105</td>\n",
       "      <td>64</td>\n",
       "      <td>92</td>\n",
       "      <td>96</td>\n",
       "      <td>441</td>\n",
       "    </tr>\n",
       "  </tbody>\n",
       "</table>\n",
       "</div>"
      ]
     },
     "execution_count": 18,
     "metadata": {},
     "output_type": "execute_result"
    }
   ],
   "execution_count": 18
  },
  {
   "metadata": {},
   "cell_type": "code",
   "outputs": [],
   "execution_count": null,
   "source": "",
   "id": "73a4bfdecd71f8e6"
  }
 ],
 "metadata": {
  "kernelspec": {
   "display_name": "Python 3",
   "language": "python",
   "name": "python3"
  },
  "language_info": {
   "codemirror_mode": {
    "name": "ipython",
    "version": 2
   },
   "file_extension": ".py",
   "mimetype": "text/x-python",
   "name": "python",
   "nbconvert_exporter": "python",
   "pygments_lexer": "ipython2",
   "version": "2.7.6"
  }
 },
 "nbformat": 4,
 "nbformat_minor": 5
}
