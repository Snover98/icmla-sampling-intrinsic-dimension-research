{
 "nbformat": 4,
 "nbformat_minor": 0,
 "metadata": {
  "colab": {
   "name": "MNIST digits classification with TF.ipynb",
   "version": "0.3.2",
   "provenance": [],
   "include_colab_link": true
  },
  "kernelspec": {
   "display_name": "Python 3",
   "language": "python",
   "name": "python3"
  }
 },
 "cells": [
  {
   "cell_type": "markdown",
   "metadata": {
    "id": "view-in-github",
    "colab_type": "text"
   },
   "source": [
    "[View in Colaboratory](https://colab.research.google.com/github/Askinkaty/IntroDL/blob/master/MNIST_digits_classification_with_TF.ipynb)"
   ]
  },
  {
   "metadata": {
    "id": "aGFz_yoV-zAg",
    "colab_type": "text"
   },
   "cell_type": "markdown",
   "source": [
    "<img src=\"https://github.com/hse-aml/intro-to-dl/blob/master/week2/v2/images/mnist_sample.png?raw=1\" style=\"width:30%\">"
   ]
  },
  {
   "metadata": {
    "id": "l4iWBWKW-zAe",
    "colab_type": "text"
   },
   "cell_type": "markdown",
   "source": [
    "# MNIST digits classification with TensorFlow"
   ]
  },
  {
   "metadata": {
    "id": "QdUYkzxR-zAh",
    "colab_type": "code",
    "colab": {
     "base_uri": "https://localhost:8080/",
     "height": 35
    },
    "outputId": "45e9f1e2-1802-40b0-a83e-8cf77561fd8c",
    "ExecuteTime": {
     "end_time": "2025-03-06T15:55:17.506050Z",
     "start_time": "2025-03-06T15:55:06.986057Z"
    }
   },
   "cell_type": "code",
   "source": [
    "import numpy as np\n",
    "from sklearn.metrics import accuracy_score\n",
    "from matplotlib import pyplot as plt\n",
    "%matplotlib inline\n",
    "import tensorflow as tf\n",
    "print(\"We're using TF\", tf.__version__)\n",
    "\n",
    "import matplotlib_utils\n",
    "from importlib import reload\n",
    "reload(matplotlib_utils)\n",
    "\n",
    "\n",
    "import keras_utils\n",
    "from keras_utils import reset_tf_session"
   ],
   "outputs": [
    {
     "name": "stdout",
     "output_type": "stream",
     "text": [
      "We're using TF 2.10.0\n"
     ]
    }
   ],
   "execution_count": 1
  },
  {
   "metadata": {
    "id": "IkqnCP97-zAq",
    "colab_type": "text"
   },
   "cell_type": "markdown",
   "source": [
    "# Look at the data\n",
    "\n",
    "In this task we have 50000 28x28 images of digits from 0 to 9.\n",
    "We will train a classifier on this data."
   ]
  },
  {
   "metadata": {
    "id": "pDdBZoWS-zAr",
    "colab_type": "code",
    "colab": {},
    "ExecuteTime": {
     "end_time": "2025-03-06T15:55:18.110053Z",
     "start_time": "2025-03-06T15:55:17.526053Z"
    }
   },
   "cell_type": "code",
   "source": [
    "import preprocessed_mnist\n",
    "X_train, y_train, X_val, y_val, X_test, y_test = preprocessed_mnist.load_dataset()"
   ],
   "outputs": [],
   "execution_count": 2
  },
  {
   "metadata": {
    "id": "FAj7ceID-zAt",
    "colab_type": "code",
    "colab": {
     "base_uri": "https://localhost:8080/",
     "height": 686
    },
    "outputId": "3cbe8160-9cf4-43d1-bf55-cdf8e0108315",
    "ExecuteTime": {
     "end_time": "2025-03-06T15:55:19.165051Z",
     "start_time": "2025-03-06T15:55:18.762053Z"
    }
   },
   "cell_type": "code",
   "source": [
    "# X contains rgb values divided by 255\n",
    "print(\"X_train [shape %s] sample patch:\\n\" % (str(X_train.shape)), X_train[1, 15:20, 5:10])\n",
    "print(\"A closeup of a sample patch:\")\n",
    "plt.imshow(X_train[1, 15:20, 5:10], cmap=\"Greys\")\n",
    "plt.show()\n",
    "print(\"And the whole sample:\")\n",
    "plt.imshow(X_train[1], cmap=\"Greys\")\n",
    "plt.show()\n",
    "print(\"y_train [shape %s] 10 samples:\\n\" % (str(y_train.shape)), y_train[:10])"
   ],
   "outputs": [
    {
     "name": "stdout",
     "output_type": "stream",
     "text": [
      "X_train [shape (50000, 28, 28)] sample patch:\n",
      " [[0.         0.29803922 0.96470588 0.98823529 0.43921569]\n",
      " [0.         0.33333333 0.98823529 0.90196078 0.09803922]\n",
      " [0.         0.33333333 0.98823529 0.8745098  0.        ]\n",
      " [0.         0.33333333 0.98823529 0.56862745 0.        ]\n",
      " [0.         0.3372549  0.99215686 0.88235294 0.        ]]\n",
      "A closeup of a sample patch:\n"
     ]
    },
    {
     "data": {
      "text/plain": [
       "<Figure size 640x480 with 1 Axes>"
      ],
      "image/png": "[encoded data removed]"
     },
     "metadata": {},
     "output_type": "display_data"
    },
    {
     "name": "stdout",
     "output_type": "stream",
     "text": [
      "And the whole sample:\n"
     ]
    },
    {
     "data": {
      "text/plain": [
       "<Figure size 640x480 with 1 Axes>"
      ],
      "image/png": "[encoded data removed]"
     },
     "metadata": {},
     "output_type": "display_data"
    },
    {
     "name": "stdout",
     "output_type": "stream",
     "text": [
      "y_train [shape (50000,)] 10 samples:\n",
      " [5 0 4 1 9 2 1 3 1 4]\n"
     ]
    }
   ],
   "execution_count": 3
  },
  {
   "metadata": {
    "id": "q7Sk2BZ0-zAw",
    "colab_type": "text"
   },
   "cell_type": "markdown",
   "source": [
    "# Linear model\n",
    "\n",
    "Your task is to train a linear classifier $\\vec{x} \\rightarrow y$ with SGD using TensorFlow.\n",
    "\n",
    "You will need to calculate a logit (a linear transformation) $z_k$ for each class: \n",
    "$$z_k = \\vec{x} \\cdot \\vec{w_k} + b_k \\quad k = 0..9$$\n",
    "\n",
    "And transform logits $z_k$ to valid probabilities $p_k$ with softmax: \n",
    "$$p_k = \\frac{e^{z_k}}{\\sum_{i=0}^{9}{e^{z_i}}} \\quad k = 0..9$$\n",
    "\n",
    "We will use a cross-entropy loss to train our multi-class classifier:\n",
    "$$\\text{cross-entropy}(y, p) = -\\sum_{k=0}^{9}{\\log(p_k)[y = k]}$$ \n",
    "\n",
    "where \n",
    "$$\n",
    "[x]=\\begin{cases}\n",
    "       1, \\quad \\text{if $x$ is true} \\\\\n",
    "       0, \\quad \\text{otherwise}\n",
    "    \\end{cases}\n",
    "$$\n",
    "\n",
    "Cross-entropy minimization pushes $p_k$ close to 1 when $y = k$, which is what we want.\n",
    "\n",
    "Here's the plan:\n",
    "* Flatten the images (28x28 -> 784) with `X_train.reshape((X_train.shape[0], -1))` to simplify our linear model implementation\n",
    "* Use a matrix placeholder for flattened `X_train`\n",
    "* Convert `y_train` to one-hot encoded vectors that are needed for cross-entropy\n",
    "* Use a shared variable `W` for all weights (a column $\\vec{w_k}$ per class) and `b` for all biases.\n",
    "* Aim for ~0.93 validation accuracy"
   ]
  },
  {
   "metadata": {
    "id": "j9ntFJdv-zAx",
    "colab_type": "code",
    "colab": {
     "base_uri": "https://localhost:8080/",
     "height": 52
    },
    "outputId": "063b7529-13e1-4ed7-fbd1-2725ea74c438",
    "ExecuteTime": {
     "end_time": "2025-03-06T15:55:19.229054Z",
     "start_time": "2025-03-06T15:55:19.206055Z"
    }
   },
   "cell_type": "code",
   "source": [
    "X_train_flat = X_train.reshape((X_train.shape[0], -1))\n",
    "print(X_train_flat.shape)\n",
    "\n",
    "X_val_flat = X_val.reshape((X_val.shape[0], -1))\n",
    "print(X_val_flat.shape)"
   ],
   "outputs": [
    {
     "name": "stdout",
     "output_type": "stream",
     "text": [
      "(50000, 784)\n",
      "(10000, 784)\n"
     ]
    }
   ],
   "execution_count": 4
  },
  {
   "metadata": {
    "id": "ty_HcAHf-zAz",
    "colab_type": "code",
    "colab": {
     "base_uri": "https://localhost:8080/",
     "height": 86
    },
    "outputId": "19570324-1645-4549-ba4a-fdd28ef11526",
    "ExecuteTime": {
     "end_time": "2025-03-06T15:55:19.292054Z",
     "start_time": "2025-03-06T15:55:19.275051Z"
    }
   },
   "cell_type": "code",
   "source": [
    "import keras\n",
    "\n",
    "y_train_oh = keras.utils.to_categorical(y_train, 10)\n",
    "y_val_oh = keras.utils.to_categorical(y_val, 10)\n",
    "\n",
    "print(y_train_oh.shape)\n",
    "print(y_train_oh[:3], y_train[:3])"
   ],
   "outputs": [
    {
     "name": "stdout",
     "output_type": "stream",
     "text": [
      "(50000, 10)\n",
      "[[0. 0. 0. 0. 0. 1. 0. 0. 0. 0.]\n",
      " [1. 0. 0. 0. 0. 0. 0. 0. 0. 0.]\n",
      " [0. 0. 0. 0. 1. 0. 0. 0. 0. 0.]] [5 0 4]\n"
     ]
    }
   ],
   "execution_count": 5
  },
  {
   "metadata": {
    "id": "5o2VrqQ5-zA3",
    "colab_type": "code",
    "colab": {},
    "ExecuteTime": {
     "end_time": "2025-03-06T15:55:19.355051Z",
     "start_time": "2025-03-06T15:55:19.332054Z"
    }
   },
   "cell_type": "code",
   "source": [
    "# run this again if you remake your graph\n",
    "s = reset_tf_session()"
   ],
   "outputs": [],
   "execution_count": 6
  },
  {
   "metadata": {
    "id": "mFMj0EwR-zA7",
    "colab_type": "code",
    "colab": {},
    "ExecuteTime": {
     "end_time": "2025-03-06T15:55:24.527054Z",
     "start_time": "2025-03-06T15:55:19.389051Z"
    }
   },
   "cell_type": "code",
   "source": [
    "# Model parameters: W and b\n",
    "W = tf.get_variable('W', shape=(784,10), dtype=tf.float32, trainable=True) #initializer = tf.contrib.layers.xavier_initializer())### YOUR CODE HERE ### tf.get_variable(...) with shape[0] = 784\n",
    "b = tf.get_variable('b', shape=(10,), dtype=tf.float32, trainable=True) #initializer = tf.contrib.layers.xavier_initializer()) ### YOUR CODE HERE ### tf.get_variable(...)"
   ],
   "outputs": [
    {
     "ename": "AttributeError",
     "evalue": "module 'tensorflow' has no attribute 'get_variable'",
     "output_type": "error",
     "traceback": [
      "\u001B[1;31m---------------------------------------------------------------------------\u001B[0m",
      "\u001B[1;31mAttributeError\u001B[0m                            Traceback (most recent call last)",
      "Cell \u001B[1;32mIn[7], line 2\u001B[0m\n\u001B[0;32m      1\u001B[0m \u001B[38;5;66;03m# Model parameters: W and b\u001B[39;00m\n\u001B[1;32m----> 2\u001B[0m W \u001B[38;5;241m=\u001B[39m \u001B[43mtf\u001B[49m\u001B[38;5;241;43m.\u001B[39;49m\u001B[43mget_variable\u001B[49m(\u001B[38;5;124m'\u001B[39m\u001B[38;5;124mW\u001B[39m\u001B[38;5;124m'\u001B[39m, shape\u001B[38;5;241m=\u001B[39m(\u001B[38;5;241m784\u001B[39m,\u001B[38;5;241m10\u001B[39m), dtype\u001B[38;5;241m=\u001B[39mtf\u001B[38;5;241m.\u001B[39mfloat32, trainable\u001B[38;5;241m=\u001B[39m\u001B[38;5;28;01mTrue\u001B[39;00m) \u001B[38;5;66;03m#initializer = tf.contrib.layers.xavier_initializer())### YOUR CODE HERE ### tf.get_variable(...) with shape[0] = 784\u001B[39;00m\n\u001B[0;32m      3\u001B[0m b \u001B[38;5;241m=\u001B[39m tf\u001B[38;5;241m.\u001B[39mget_variable(\u001B[38;5;124m'\u001B[39m\u001B[38;5;124mb\u001B[39m\u001B[38;5;124m'\u001B[39m, shape\u001B[38;5;241m=\u001B[39m(\u001B[38;5;241m10\u001B[39m,), dtype\u001B[38;5;241m=\u001B[39mtf\u001B[38;5;241m.\u001B[39mfloat32, trainable\u001B[38;5;241m=\u001B[39m\u001B[38;5;28;01mTrue\u001B[39;00m)\n",
      "\u001B[1;31mAttributeError\u001B[0m: module 'tensorflow' has no attribute 'get_variable'"
     ]
    }
   ],
   "execution_count": 7
  },
  {
   "metadata": {
    "id": "gNKzTZ7M-zA-",
    "colab_type": "code",
    "colab": {},
    "ExecuteTime": {
     "end_time": "2025-03-06T15:56:15.011868Z",
     "start_time": "2025-03-06T15:56:14.984996Z"
    }
   },
   "cell_type": "code",
   "source": [
    "# Placeholders for the input data\n",
    "input_X = keras.Input(shape=(None, 784), dtype=tf.float32)### YOUR CODE HERE ### tf.placeholder(...) for flat X with shape[0] = None for any batch size\n",
    "input_y = keras.Input(shape=(None, 10), dtype=tf.float32)### YOUR CODE HERE ### tf.placeholder(...) for one-hot encoded true labels\n"
   ],
   "outputs": [],
   "execution_count": 8
  },
  {
   "metadata": {
    "id": "5wPo6Mf6-zBA",
    "colab_type": "code",
    "colab": {
     "base_uri": "https://localhost:8080/",
     "height": 86
    },
    "outputId": "27076ecb-4a07-42ad-ae09-4c8195492793"
   },
   "cell_type": "code",
   "source": [
    "# Compute predictions\n",
    "logits = tf.matmul(input_X, W) + b ### logits for input_X, resulting shape should be [input_X.shape[0], 10]\n",
    "print(logits)\n",
    "probas = tf.nn.softmax(logits)  ### apply tf.nn.softmax to logits\n",
    "print(probas)\n",
    "classes = tf.argmax(probas, 1) ### apply tf.argmax to find a class index with highest probability\n",
    "print(classes)\n",
    "# Loss should be a scalar number: average loss over all the objects with tf.reduce_mean().\n",
    "# Use tf.nn.softmax_cross_entropy_with_logits on top of one-hot encoded input_y and logits.\n",
    "# It is identical to calculating cross-entropy on top of probas, but is more numerically friendly (read the docs).\n",
    "loss = tf.reduce_mean(tf.nn.softmax_cross_entropy_with_logits(logits=logits, labels=input_y)) ### cross-entropy loss\n",
    "print(loss)\n",
    "\n",
    "# Use a default tf.train.AdamOptimizer to get an SGD step\n",
    "#step = tf.train.AdamOptimizer(1e-4).minimize(loss)\n",
    "step = tf.train.RMSPropOptimizer(0.001).minimize(loss)"
   ],
   "execution_count": 0,
   "outputs": [
    {
     "output_type": "stream",
     "text": [
      "Tensor(\"add:0\", shape=(?, 10), dtype=float32)\n",
      "Tensor(\"Softmax:0\", shape=(?, 10), dtype=float32)\n",
      "Tensor(\"ArgMax:0\", shape=(?,), dtype=int64)\n",
      "Tensor(\"Mean:0\", shape=(), dtype=float32)\n"
     ],
     "name": "stdout"
    }
   ]
  },
  {
   "metadata": {
    "id": "qMZl_VT4-zBC",
    "colab_type": "code",
    "colab": {
     "base_uri": "https://localhost:8080/",
     "height": 309
    },
    "outputId": "cff80c42-1892-416a-fe37-2ed029b27557"
   },
   "cell_type": "code",
   "source": [
    "s.run(tf.global_variables_initializer())\n",
    "\n",
    "BATCH_SIZE = 512\n",
    "EPOCHS = 50\n",
    "\n",
    "# for logging the progress right here in Jupyter (for those who don't have TensorBoard)\n",
    "simpleTrainingCurves = matplotlib_utils.SimpleTrainingCurves(\"cross-entropy\", \"accuracy\")\n",
    "\n",
    "for epoch in range(EPOCHS):  # we finish an epoch when we've looked at all training samples\n",
    "    \n",
    "    batch_losses = []\n",
    "    for batch_start in range(0, X_train_flat.shape[0], BATCH_SIZE):  # data is already shuffled\n",
    "        _, batch_loss = s.run([step, loss], {input_X: X_train_flat[batch_start:batch_start+BATCH_SIZE], \n",
    "                                             input_y: y_train_oh[batch_start:batch_start+BATCH_SIZE]})\n",
    "        # collect batch losses, this is almost free as we need a forward pass for backprop anyway\n",
    "        batch_losses.append(batch_loss)\n",
    "\n",
    "    train_loss = np.mean(batch_losses)\n",
    "    val_loss = s.run(loss, {input_X: X_val_flat, input_y: y_val_oh})  # this part is usually small\n",
    "    train_accuracy = accuracy_score(y_train, s.run(classes, {input_X: X_train_flat}))  # this is slow and usually skipped\n",
    "    valid_accuracy = accuracy_score(y_val, s.run(classes, {input_X: X_val_flat}))  \n",
    "    simpleTrainingCurves.add(train_loss, val_loss, train_accuracy, valid_accuracy)"
   ],
   "execution_count": 0,
   "outputs": [
    {
     "output_type": "display_data",
     "data": {
      "text/html": [
       "<img src=\"data:image/jpeg;base64,/9j/4AAQSkZJRgABAQEASABIAAD/2wBDAAIBAQEBAQIBAQECAgICAgQDAgICAgUEBAMEBgUGBgYFBgYGBwkIBgcJBwYGCAsICQoKCgoKBggLDAsKDAkKCgr/2wBDAQICAgICAgUDAwUKBwYHCgoKCgoKCgoKCgoKCgoKCgoKCgoKCgoKCgoKCgoKCgoKCgoKCgoKCgoKCgoKCgoKCgr/wAARCAEgA2ADASIAAhEBAxEB/8QAHwAAAQUBAQEBAQEAAAAAAAAAAAECAwQFBgcICQoL/8QAtRAAAgEDAwIEAwUFBAQAAAF9AQIDAAQRBRIhMUEGE1FhByJxFDKBkaEII0KxwRVS0fAkM2JyggkKFhcYGRolJicoKSo0NTY3ODk6Q0RFRkdISUpTVFVWV1hZWmNkZWZnaGlqc3R1dnd4eXqDhIWGh4iJipKTlJWWl5iZmqKjpKWmp6ipqrKztLW2t7i5usLDxMXGx8jJytLT1NXW19jZ2uHi4%2BTl5ufo6erx8vP09fb3%2BPn6/8QAHwEAAwEBAQEBAQEBAQAAAAAAAAECAwQFBgcICQoL/8QAtREAAgECBAQDBAcFBAQAAQJ3AAECAxEEBSExBhJBUQdhcRMiMoEIFEKRobHBCSMzUvAVYnLRChYkNOEl8RcYGRomJygpKjU2Nzg5OkNERUZHSElKU1RVVldYWVpjZGVmZ2hpanN0dXZ3eHl6goOEhYaHiImKkpOUlZaXmJmaoqOkpaanqKmqsrO0tba3uLm6wsPExcbHyMnK0tPU1dbX2Nna4uPk5ebn6Onq8vP09fb3%2BPn6/9oADAMBAAIRAxEAPwD9/KKKKACiiigAooooAKKKKACiiigAooooAKKKKACiiigAooooAKKKKACiiigAooooAKKKKACiiigAooooAKKKKACiiigAooooAKKKKACiiigAooooAKKKKACiiigAooooAKKKKACiiigAooooAKKKKACiiigAooooAKKKKACiiigAooooAKKKKACiiigAooooAKKKKACiiigAooooAKKKKACiiigAooooAKKKKACiiigAooooAKKKKACiiigAooooAKKKKACiiigAooooAKKKKACiiigAooooAKKKKACiiigAooooAKKKKACiiigAooooAKKKKACiiigAooooAKKKKACiiigAooooAKKKKACiiigDxPxd/wAFFP2PvAmoXmn%2BK/ipc2gs9UbTReHwpqj2l5eLfw6fJb2lwlsYb2SO7nigkW3eQxOxD7drY2j%2B2f8As6R%2BObL4c3XjHUbfVLy6sLNlu/Cmpw29le3sUctpY3dw9sIbG8lSWIraXDxzkzRjy8uoPiVz%2Bxn%2B1bH4C8N/s66Zqfw9HgXwn8W9N8V22tXOo3r6rqtnb%2BLrXWxbyQC1EVrLHAlxFvEswuJFiJ%2Bzqzbeh8cfsffGzXfGPi3wPoup%2BFv%2BEA8c/F7QfHuq61dalcrrOnvp8mlTyWEVqtu0Mwll0mLbcNcRmJLhh5TmNSwB6Fa/t1fsv3cGr3w8f30Nno2n3N7LqV54U1OC0vYLedLeZ7G4ktli1HbNJHHi1aYlpEAB3rns/hT8ZfAXxp0m91fwJc6njTdQNlqVnrfh690q8tJxGkuyW1voYZ48xyxupZAGVwQSDmvmbTf2IPj5a6t4mtbTwl8ONN8MazoOp22reBV8Za1feHfFN5cXcEsdw2mTwCPQGCJcEvZyTnzLkMRL5Q3egfs4/sm%2BOvDGmXP/AAu3xl4hhgsfFa6n4L8M6H8ZPEOpQaLbC3tla2mvpmtZtTheeGSUQXUbxRLKY1BQnIB0kX7eP7Kk0fiC6HxNlW18N6Jqur32oy%2BHdQS0urLTSRfzWVw1uItSFuRiQWjTFSQCMkZ5vx3/AMFL/wBmXwh4Vl8TaPd%2BJtceDxF4b0yXTdP8Dav9qeLW78WdnfwxNaB7m1crO0c8IeOZoTFEzyvGjeKaH/wSx%2BI%2BjfBrXPgl5eiXX9m/DfxR4c8C%2BK9W%2BK/ia/LzajZT2VtI%2Bkz5sdLUQzFZjALjJGY0j4A7z4//ALEPxs8d%2BOH%2BIfw%2B1Pwo9zp/hz4cxaTp2r6nc20dzfeG/FE2szxSyRW0phhlidIklVJGDliYsAbgD1V/25/2ZFtteu4/G%2BpzJ4b8Sf8ACPakLbwfqsrPq/nPCdOt1S1JvLsOhJggEkgQrIV2MrGpqn/BQX9lDSbTRp5PH%2Bq3U%2Bv2Wq3WmaXpfgnWLy/ZNMuIrfUFks4LR7iGW3lmRZIpI1kT5iVwjleFtv2OvjToXha08QaFfeFZvFegftCaz8R9G0y61O5j0%2B%2Bgvl1C3NnPcrbNJDILbUZSJFhlCyxJ8rCvMNI%2BEf7S3wX/AG5vCGqeD9N8Dav478U%2BA/iX4l1jSNT128tdItftmt%2BFwlvBdpZyzN5Srb5kNuvnFZfli8wbQD6jsf2yP2adU8Gaz8QtK%2BKVvd6PoNxpMGoXtpY3MoLapDaTaeYVWMtcrcJfWvlvCHVmkKZ3I6r6bXwN8Nv2Q7XwR%2B1Z8Ff2dvBXxLsNdsPh58M9Ff432dmnD3ugLu8PPKqki2klutRnuUjf52i06PGVQGvvmgAooooAKKKKACiiigAooooAKKKKACiiigAooooAKKKKACiiigAooooAKKKKACiiigAooooAKKKKACiiigAooooAKKKKACiiigArzb4q/tdfs/fBPxlH4D%2BJPje4stR%2By2l1efZ9Bvru3023urh7a2nvbi3geGwilmjkRJLl41YxvgnY2PSa%2BQ/28f2Kv2o/2pNZ8Z6N4R%2BIWn/8I5rvhC0s/DFtqHxB1rSoNGvoXnkm8/TtPi8jU47ljApluZG8hVJWCXbscA9gh/br/ZUku9btpviqtrFoGn6hfXeoahot7bWVzb2EywXslndSwrDqAhldI3%2ByvKVd1U8sAdDwJ%2B2B%2Bz78R/EmneC/DXjC%2Bj1vVNTutPt9D1fwzqOnX0Vzb2kd5LHPb3dvHLbH7NLHMvnKgkSRShbIrwzQ/wBjX9rW8/ZXP7IXiDWvh5pWgaLpEn9ga1ZX99qF3qF9FqUN9YC5R7e3W2hjMRinKNO1xuDqIOYz1/jH4S/tp%2BNfiB4H%2BPWqaH8ME1/wZ4l1CS08HQeJtQWzGmXel/ZHLambAyTXAnHnAfY408s%2BVnK%2BawB2uh/t0/steJddsPDmh/EuW4utR0KfWotnh7UBFDpsM9zbzXk8pg8u1gSa0njaSZkUMEBP72Le3w9%2B3Z%2By74m8J6741sviFe21l4dsdPvdSj1fwrqdhctbX8jRWM0Ftc20c13Hcyq0UDQJIJpAUjLN8teO/s%2BfsI/tK/Bjw3q7xfFHwvY%2BKLj4J3fhXR/EWlxzSrY61Jq2rX0V6IZYgDAn263baWJ3RuuCAGbkrH/gnN%2B1HceNNR%2BImoa74div59G8Iz2dvrXxT1/xIw1jw7r39rQrLc6hbB/st3vlR/JSJbU7WjgmJY0AfUHw9/bC/Z2%2BJ%2Buy%2BF/Cnj%2BRdTttLvdQvdN1fRL3Tbizgs5Yorrz47uGJoHia4ty8UgWRVnicrskRj2nw98e%2BFvip4C0T4m%2BBr%2BS70XxFpNvqWkXU1nLbtNazxrLE5imVJIyUZTtdVYZwQDxXxx%2B3H8PfjP8Ybb4c/D3xh4x8IaH8UvFXjTUNFj8PeD724unh8D6lZNaa0vnSpDLMYoUS7N2YYIxPDbRBdxQyfbOnadYaRp8Gk6XZx29rawrDbW8KBUijUAKqgcAAAAD2oAmooooAKKKKACiiigAooooAKKKKACiiigAooooAKKKKACiiigAooooAKKKKACiiigAooooAKKKKACiiigAooooAKKKKACiiigAor57%2BP8ApWv%2BJP2lvC/hz4TfEXxk3i%2BO90TU9UsLTxBPBoXh7w9b37Pey3drEVhuJdQiS4solnE0m9fMiEa20rr5R8ffiz8W/B3jbx58WvBPjfxBN4t8PfGCPwx4c8HprVw2nz6afCkN75B08P5ErlpZr7zzGZh5YUP5abKAPtuszxVrN3oenpd2iRszTBCJFJGME9iPSvAP2K9X1Kw%2BJmp%2BB9M%2BJ%2Bv%2BK9CufhD4N8TNf%2BIPEVxqjjUr99VSeaOWd3MaTx2tvJ5EZWJNu5EQSHPovxa%2BKH9lfGrwj8EZbSBIvEnhvW9Z/tGWR8xPp8%2BmQiIKqnIcai7E8Y8kDndwueFOS59m0vm9EdOGwmIxkpRoq7jGU3/hguaT%2BS1tu%2Bht/wDCw9a/59bX/vhv/iqP%2BFh61/z62v8A3w3/AMVWX/Z9p/0HLX/viX/4ij%2Bz7T/oOWv/AHxL/wDEV28lPscd2an/AAsPWv8An1tf%2B%2BG/%2BKo/4WHrX/Pra/8AfDf/ABVZf9n2n/Qctf8AviX/AOIo/s%2B0/wCg5a/98S//ABFHJT7Bdmp/wsPWv%2BfW1/74b/4qj/hYetf8%2Btr/AN8N/wDFVl/2faf9By1/74l/%2BIo/s%2B0/6Dlr/wB8S/8AxFHJT7Bdmp/wsPWv%2BfW1/wC%2BG/8AiqmuvHesQQW8q29sTNCXbKNwd7L/AHv9kVi/2faf9By1/wC%2BJf8A4irN9Y2rW1mDrFsMWxAJWX5v3r8j5Pw59KThTvsF2W/%2BFh61/wA%2Btr/3w3/xVH/Cw9a/59bX/vhv/iqy/wCz7T/oOWv/AHxL/wDEUf2faf8AQctf%2B%2BJf/iKfJT7Bdmp/wsPWv%2BfW1/74b/4qj/hYetf8%2Btr/AN8N/wDFVl/2faf9By1/74l/%2BIo/s%2B0/6Dlr/wB8S/8AxFHJT7Bdmp/wsPWv%2BfW1/wC%2BG/8AiqP%2BFh61/wA%2Btr/3w3/xVZf9n2n/AEHLX/viX/4ij%2Bz7T/oOWv8A3xL/APEUclPsF2an/Cw9a/59bX/vhv8A4qptR8d6xZ6hPaR29sVimZFJRskAkf3qxf7PtP8AoOWv/fEv/wARVnWLG1fV7p21i2Um5clWWXI%2BY8HCYpclO%2BwXZb/4WHrX/Pra/wDfDf8AxVH/AAsPWv8An1tf%2B%2BG/%2BKrmvFniDwR4C8O3Xi/x18RNE0XSbFA97qmrXbW1vbqWCgvJIoVASQMkjkgVwP8Aw2b%2BxJ/0ev8ACX/wvLP/AOLrGrXwNCXLVnGL85Jfm0engckzzM6bqYLC1asU7N06VSaT3s3CnNJ21s2nboex/wDCw9a/59bX/vhv/iqP%2BFh61/z62v8A3w3/AMVXjn/DZv7En/R6/wAJf/C8s/8A4uuq%2BHHxX%2BCnxit7q6%2BEfxz8IeKYrF0S%2Bk8Oa0l8tuzAlQ5h3BCQDgHGcH0qaeJy%2BtPlp1IyfZSi39yk3%2BBpi%2BH%2BIsBQdfFYOtTgt5To1YRV9FeU6UYq70V5K70Vzuf%2BFh61/wA%2Btr/3w3/xVH/Cw9a/59bX/vhv/iq8a%2BL37VXwb%2BBnxJt/h98Sdeu7KKTwnda/d63FoGoXFnaQRXVvbKjyQ27gO7z9M/LtXODIm5ni39rP4F%2BFbXUEvfGk1leWeh3OoxLr3hTW7C2cw6edQeBp3sCBOtsDK9uoe4RUkzCWjZR0ctLseRqe3WPjvWLqdont7YAQyPwjdVRmH8XtUP8AwsPWv%2BfW1/74b/4qvKPB37Vv7P2v%2BM7jwRpHxAmutVgi1KCSC18Las8Ulza2rTXFtFMbQRz3CRfvPIRjKyfMqMKT4y/FfxH4I8QeG/APww8K6Z4l8SeJob66tLHU9Zn0u3htLSJGmkeb7LMwbfNbxKnl8tNlmQKTRy0r7Bqesf8ACw9a/wCfW1/74b/4qj/hYetf8%2Btr/wB8N/8AFV5FB8YvEHjr4JeDPjH8DfB1hrkfjTTbLUoIte1xtLt9Lsbiya7E93MIJ3UABItsUUreZKmQqB5E43Sv22/D3iKb4NWfh7wbLPcfFa1tL3UY5L1lXw1aXNnPPBJMwibzmlkgkjiVdokWKaQMBHtY5aXYNT6P/wCFh61/z62v/fDf/FUf8LD1r/n1tf8Avhv/AIqvmf4W/tjeL/i3olnL4U%2BEOlTav4k8Jab4n8G6QnjE5n0q7uhAZb92tFNjJAGSSaONbk43pEZnQpTdZ/bm07Rvhn4V8VHwJDea94i%2BID%2BGbnQ9P1h5ILOGDXl0a71Vbo26%2BdZpK8Rjby1aU3ECFYy7GMtS7BqfTX/Cw9a/59bX/vhv/iqP%2BFh61/z62v8A3w3/AMVXzf8AFb9tjSfh58S/F/gPQ/Asmu2fhDwHqGu3euQXzxQy3tnLZLPYBTCxCxR38EstwMrGN6hXdHVeVk/4KN6PPolmuj6f4AutTvdU1aCxv5PigsHh3U7bT4bFpp7LVpLIC5Zp9RtrRUMKD7Qk6s6rEXYtS7BqfYCeO9YbT5bs29tuSaNANjYwwcn%2BL/ZFQ/8ACw9a/wCfW1/74b/4qvnO3/bPu9Q%2BP17%2BzTovg3w82rNq8llbWV74xePVI3i0eTUEv7mxjs5DDpbuVtBepJLiaSNfKO/jnPFf7cHj/wACXcdh428A/DbSI5viDJ4Vi1/VPitdW2jCWHSbjULiVruXR1ZRG8AtdvlHMxddw8s5VqXYep9X/wDCw9a/59bX/vhv/iqP%2BFh61/z62v8A3w3/AMVXz34a/aov/EP7Q0nwEkPw2tJrWy02aaSb4kzfbb83Nn9pkOnWn9mg3scYyBIZItw%2BYqnSofBX7YcV3c%2BOLT4neFdJ0mbwRpFheX1t4a8THW5Eu7uSaOPRpvLt40j1XfHEv2WNplJuYdsrB1LO1LsLU%2Biv%2BFh61/z62v8A3w3/AMVR/wALD1r/AJ9bX/vhv/iq%2BU9K/b11rVPAFp8Qf%2BFPWUFvpfgex8V/ES2m8Uv5mhWNze3dqq222zK38i/YL2VgTAu2EAMWcAWNJ/bpl1Dwt8SPGbaH4Glt/h/qGvWkmi6b8Q5bjWcadrE%2Bmi6vbT%2Bz1FhauIHuWl8yUxxY%2BWQ5wWpdg1PqT/hYetf8%2Btr/AN8N/wDFVs%2BEvEV7r32j7ZFEvlbNvlKRnO7rkn0rw39mb42WH7RPga/8ZQT6DFFYa9caZHf%2BHtck1XS9SEQQm4srwW8X2iHLmIt5a7ZYZUwdm4%2B0eALeKD7X5V9FNny8%2BUHGPvddyipnGHJdIavc6OiiiuYoKKKKACiiigArmfEHjLVNJ1ebT7eC3ZI9u0ujZ5UHs3vXTVwfjP8A5GW5/wCAf%2BgLWtKKlLUT2LX/AAsPWv8An1tf%2B%2BG/%2BKo/4WHrX/Pra/8AfDf/ABVYNFdHs4dibs3v%2BFh61/z62v8A3w3/AMVR/wALD1r/AJ9bX/vhv/iqwaKPZw7Bdm9/wsPWv%2BfW1/74b/4qj/hYetf8%2Btr/AN8N/wDFVg0Uezh2C7Ok07x3rF5qEFpJb2wWWZUYhGyASB/eqH/hYetf8%2Btr/wB8N/8AFVl6H/yGrP8A6%2Bo//QhVWl7OF9guze/4WHrX/Pra/wDfDf8AxVH/AAsPWv8An1tf%2B%2BG/%2BKrBop%2Bzh2C7N7/hYetf8%2Btr/wB8N/8AFUf8LD1r/n1tf%2B%2BG/wDiqwajubq1s4jPd3McSDq8jhQPxNHs6a6CvY6L/hYetf8APra/98N/8VR/wsPWv%2BfW1/74b/4qvOte%2BNvwY8KoZPFHxc8Maaq9Wv8AX7aED/vtxXE63%2B37%2BxD4eJGo/tY/D8lfvLa%2BKra4I/CJ2NctTE5fR/iVIR9ZRX5yRy1cwwND%2BLWhH1lFfnJH0DbeO9YnguJWt7YGGEOuEbk71X%2B9/tGof%2BFh61/z62v/AHw3/wAVXzhF/wAFQ/8Agn9Y2t4tx%2B1R4Xy9uFURzSPk%2BYhwNqHsD%2BVc/qn/AAV3/wCCdOkJuuP2lrGU9AtpoeoTkn6R27VyyzfI4X5sRT/8Dj/8kcks/wAjgvexVNf9xIf/ACR9X/8ACw9a/wCfW1/74b/4qj/hYetf8%2Btr/wB8N/8AFV8gD/gsR%2Bwo43QeO/EMiH7sieB9TIYeo/cUf8PbP2ar75vCfgH4oa8n/PTR/h3eOuPX5wvFR/beQdK8H6O/5JmX%2BsuQ9MVB%2Bjv%2BSZ9f/wDCw9a/59bX/vhv/iqP%2BFh61/z62v8A3w3/AMVXyB/w9k%2BAcf8Ax%2B/B/wCL1t6%2Bf8OLoY/Imj/h7Z%2BzU3yw%2BAvihI3dE%2BHd5kfpR/beRf8AP6P4/wDyIf6yZF/0Ex/H/wCRPr//AIWHrX/Pra/98N/8VR/wsPWv%2BfW1/wC%2BG/8Aiq%2BQP%2BHrXwiuP%2BQP%2Bzp8btR9PsXwznbP/fTio5/%2BCqPhOBfM/wCGK/2imT%2B%2BPhcwH6zij%2B28j/5%2Br7pv8oMa4jyWTsq6fopv8qbPslPHesNp8t2be23JNGgGxsYYOT/F/siof%2BFh61/z62v/AHw3/wAVXxhqH/BYj4YaLpE6al%2ByB%2B0FCDPG2%2BX4dRoowrjBLXQwef0Nclf/APBcv4Kxlk0/9nT4jxsOCNai06wwffzLs4rCXEfDtP4q8V8pf/II9DD4tYxf7NTq1P8ABQxE/wD0nDSPvz/hYetf8%2Btr/wB8N/8AFUf8LD1r/n1tf%2B%2BG/wDiq/OfUf8AgtZ4l1Q7/BP7PnguK36/afEfx40O2cexgRncH8eKxrz/AILa/E6xJE3wS%2BGLY/54/Gqzk/8AQIjXPLizhyP/AC8f/gMj2KOTcVYlXo5RjprusDjLfjh4n6Y/8LD1r/n1tf8Avhv/AIqj/hYetf8APra/98N/8VX5bar/AMF5/HGmIWuPgj4DTHeL4ivc/pDasaZo3/BfX4lX7Aaf%2BxrH4hB6PoPiO8UH6b9PNY/658L81vav/wAAl%2Bl3%2BB6H%2BqHHvsvaPIswUe7wOKS%2B900fqZ/wsPWv%2BfW1/wC%2BG/8AiqP%2BFh61/wA%2Btr/3w3/xVfmG3/Bcb9oG5bfZ/wDBPbV41/uS6veux/FdOAqX/h9d%2B09fp5Wlf8E6dbEn9973UJV/JdPB/Wr/ANb%2BG3tOX/gup/8AImD4b4xW%2BUYz54Wsvzt%2BNj9Pbrx3rEEFvKtvbEzQl2yjcHey/wB7/ZFQ/wDCw9a/59bX/vhv/iq/MqX/AILFftyyRQCb/gndqbIkRWPZp%2BsDcu9jnJtOeSR%2BFW7H/grl%2B3VeYFr/AMEt/F14T0%2ByWmq8/wDkgaI8W5BL%2Bf8A8FVP0iyKnD/FlFXqZXiorzoP/wCWH6Vf8LD1r/n1tf8Avhv/AIqj/hYetf8APra/98N/8VX51wf8FP8A/gofepm1/wCCTfjFCehnN%2Bn6NZCpB/wUX/4Kc3fFl/wSz1mPPTz7i6H84lrb/WbJntGo/wDuDV/%2BQOJ4HO4uzwNf/wAFW/Oqj9EP%2BFh61/z62v8A3w3/AMVR/wALD1r/AJ9bX/vhv/iq%2BB9B/b0/4KcXIH9pf8Esb%2BY/7HigWv8A6Mjar0v7af8AwVHuXzp//BLgxL6XHjy3J/PC1quIMrkrqFT/AME1f/kThqVMXSqOE8NWTXT2T/Pma/8AJmfdX/Cw9a/59bX/AL4b/wCKrpvD%2Boz6tpEOoXCorybtwQEDhiO/0r87pv2uv%2BCtE0f%2Bhf8ABMzTo29ZvHtow/LzFr7U/ZE8V/GLxv8As8eHvFHx%2B%2BG9v4R8W3X2v%2B1vD1rercR2m27mSLEiMwbdEsb8E4LkcYxW9DM8LjJ8lKE097ypzivvkkr%2BRdKpWqP3qU4rvKPKvT4m7/L5npNFFFdRuFFFFABRRRQAUUUUAFFFFABRRRQAUUUUAFFFFABRRRQAUUUUAcR4x/Zm/Zv%2BIni//hYPxA/Z%2B8Ea7r%2ByJP7c1nwpZ3V5tiJMa%2BdJGz4Qk7Rn5cnGK1IPg98JLXxtbfEu1%2BFvhyPxHZaeLCz8QR6Jbi%2BgtQCot0nCeYsQBI2BguCeK6OigDA8AfCr4X/Ciyu9O%2BFvw30Dw1b39211fQaBo8FmlxOQAZZFhVQ7kAAscnAHNeFftQ6j9i/bu%2BBttux9s8GeN4frh9Dk/wDZK%2BlK%2BT/2ztR%2Bxf8ABQ39mW23Y%2B16R47hx64s9Ok/9krhzCfJSg/%2BnlP8ZpfqfYcEUPrGa4in/wBQuMf3YWpL/wBtPYKKKK94%2BLCiiigAooooAKtah/x6WP8A16n/ANGyVVq1qH/HpY/9ep/9GyUnugKtFFFMAooooAKKKKACrWuf8hq8/wCvqT/0I1Vq1rn/ACGrz/r6k/8AQjS6gYnizwh4T8e%2BHbrwh468L6drWk3yBL3S9Wso7m3uFDBgHjkBVwCAcEHkA1wP/DEX7F//AEaJ8L//AAgdO/8AjNdb8Wfix4A%2BBvw71T4r/FLX/wCy9A0aFZdSv/sss/kozqgOyFHdvmZR8qnr6V4D/wAPmv8Agmv/ANHIf%2BWfrP8A8h15ePxOR0aqWNlTUrac/Je3lzJu1/kXHjKtw4vq8MylhlL3uVV50r9ObljVgnta9m9LX6HqP/DEX7F//Ronwv8A/CB07/4zXVfDj4M/B/4O291a/CP4UeGvC0V86PfR%2BHNCt7FbhlBClxCihyATgnOMn1rwT/h81/wTX/6OQ/8ALP1n/wCQ69W/Zx/a%2B/Z2/a2sNV1P9nz4h/8ACQQaJNFFqb/2Td2nkvIGKDFzFGWyEb7ucY5xWeDxfDtXEKOFnSc9bcvs%2BbztypPbccuPMRna%2BpyzWddS%2Bw8TUqJ21%2BCVaadt/hdt9NzF/aP/AGVNT%2BPXi6z8Sad8RrfRoV8Nz6PqVrPoTXbTxvf2N6jxuLiIRMr2QU7lkDLIcbSuT538a/8AgmxffF34ga94/i%2BLmi2V3q%2Bo6rPBqF34EF3qUNtf6Fc6RLZPefa0eS3iW4MsMaCNEZcOsp%2BYey/FX9pbwN8H9Z1LQPFOj6vJd2PhuHV7GGzt4mOreZeCzFpa7pF33AnktUKvsTN5B853Nt8z8Yf8FDfBUniPUvhr8PdM2%2BJ9I8WaJp9zb6tdWVxHLZ3PiWw0a7lEdnePNbyIt5uRblYWJdG8t1V1HrPl6kanXeBv2RdS8Ka7pWuaL8S4PtmieMdf8T2rXWgs8Ty3uj3disLqtwpKxmcSEhgXCbBs3bxvfGT4OeMfHeu%2BHPH/AMOviJZ%2BG/FHhyG9trfUb7QDqFtLbXcSLPG0AnhOd8NvKjeZ8rQgEOpIry5P%2BChMuo%2BGPDd98N/Aep6rc6nr/hXTdb1270iKDTdPTWdTgtGieMXzTJcfZZXkQp50SO8O9ju2H0342/Fbxt4Q8IeG4vBuiW2neIvF/iiy0XT08RwC4h09pd8kss0dtOPN2QwykIkyhn2DeoJIFy6hqcv44/ZM8Wan8A/C/wCzb8PfijpWl%2BFvDUWmWElhrXhie/Gr6TZ2fkCwvDFfW7SJJKsUkhUorohhdHSR9x4n/Yj8JeM/G/hn4sa54p1Cz8UaT4ksNY1648Pavq1jp2qvaWclrFGlgNQaG2AV05/eEqrq24Svnb%2BHXxP%2BL/xQ%2BBN9rfh638MweM9N8S6loN3cX8dwuliSw1aWxnvRErmUoYoXuEt/NBJKxNMvMo8ct/22fjPJJoWpa/4l8LaH4Wnsteub/wAfL8NNX1PTb%2B3stTitre9j%2Bz3oGnWksDyTefPJJFtQSCQxsGI%2BUNTpJ/2D/GkNp4s1Pw58ZvD2i%2BIvEtpDp39vaF8O109msTe/ab03K2d5C095doEhku4ngKqitEkb/NWl46/YD8H/ABQ8E6Vpfi3xCNJ17So9GsoNQ8AT6toOnLpmm6ml7DZrp8GpGNSAJEWUuzRs6yLgxoo5f4h/tyfFf4d6LqHxTufD3hy%2B8N6j4i8W%2BG/CmjR208V7HqejPexRyXNz5zRyQTy6bdZVIUaJXi%2BaQhq3fFXx6/aL8LeE/iBZ3/i7wSviD4eX9tG00Hge8mh8Qi9tLeSytre3OqI1tcPcytbANNKrny2%2BTcVU90NQ%2BIH/AATd%2BF/ibxLdeI/B3jTxFoYutA1i0awn8Q6nqNr9tv8AULW/a6Nvc3jQmIzW7mS2CBJjOWJVkU0us/sM%2BLNW1HWfiAfi7oQ8aeI5dZj1rU5fArS6aLPUrDTLG4ht7Jr3fC%2BzR7JxI88gL%2BfuRll2LTuv2qP2gPCuqXGpeK7DwXd6XoXi%2Bz8Ha5Z2ltcWsl1qsmjQXcl7DczXDR29r9snSAQyRuyxK0rTE/JXHeCv%2BCgHxf8AEnhy1n1nU/COjQ3t7oC33jPxB4M1LS7Dw9FqFhqNy7XNld3iS3EAlsre1hv1nitp5b4BCfIcMe4Gp6x8OP2Jrj4d%2BJ9K1PTviitx4X8O%2BMk8RadpVzoZbVHv20SbScTah5%2BJIPJd38vyFfdsXzdibDsaR%2Bz/APEXwV8LdA8G/Dz4r6RBrOkaxf6lqGra94NF/balNeyXUtw7QLcxSRO0t07h45wfvBg6sVryDRP%2BCj3ifUbPQtZ1S48J6Tp16/huKXRLywujf%2BJJr3VrrS72fTHMyeXDaNGJmRoZnKuBIYAyu3ouleOP2s9U%2BIPjXwRonjL4b6pD4Zs9PhOqzeE7%2BwistQuZEmljkH9ozm4Nvp7LcGIeT5jXVuvmxguypOPQHcp6J%2BxPruheGvB/wttfjDbyeDPCknh%2B4Wzk8JxLqslzpBjeAx30cyLFE8sMbNG0EjBWliR0jcKk2nfsSt4u8SDxT%2B0d8U7vxhe2Wk6bp%2BkX2hJeeHboCylnliurqeyvN9xdFp2JdDDEp3FIULccjq/7cfxQtfgx4d17w54f8P6x4i1XxZ5VxqUNpPFpkvhxNcTTl1mOIzNIi3SSRfZkMrBjK0qtLFC2crx//wAFG/Enwq1rxY/ixPC9w%2Bmv4qt9N8FwwTwappsultJ9invp2ldTb30MRnRhDHtjmTaZtrsHeAanQaD/AME5v%2BES8EL8OPDPxpuhpGs%2BF7fw548XVdPuL%2B41fTYL%2B7u0jt5p7wtZuRf3kLFvOXZMCqKVBrZ%2BJn7E3iv4vavPeeOPjPp7W9hHqR8Jpp3guO2mtpLvULa%2B/wBOdbjZfxq9pEhjWO381SxkLuQ4y/Df7TPx48e6xp/wi8A%2BLvAl54unbWrq91S/8E6vYQ21vp9vprfZp9MurmO5tbiSXVbcqzTOhg2zBW8wItrwf%2B1l8VPFvi34SeIU03Qrfwp8WbGyvNN0t9EvvtFraz6M98ZZNVd0sxcCdfKWwWN5ZIh5obAcRnuhqeqfA74Sax8LLbxJqPijxZa6zrXi3xM%2Bt6zc6dpLWFokxtba1VILdppmiTyrWItukctI0jk/PgewfDb/AJff%2B2f/ALNXL11Hw2/5ff8Atn/7NSq6U2C3OoooorjLCvmPQPjr8ZLn48aR4gvPiDNJ4e1743ax4BHgk6baC3tLSz0e/uEvElEQuWuWuNPMjbpTF5M7ARgqr19OV57efssfA%2B8%2BJVx8XW8L30WvXN0bt7i08R38EKXbQJbNdx28c6wxXLQRrC1wiLK8RaNnKMykA8I0n44ftOH47X3wm8T%2BPNc0DUfEkvjK3tW13wLCNE8N29lc7tH1GyufKi%2B3h7HbJMr3E6iWXDi32%2BS2LF8U/wBsHXtNsPGHhHxz8UPEXw3Gu65Np3i7wp4f8MLresaNFY6c1rdyx39rHbGJrs6r5LQQo89uls6rJvDP794g/Yo/Zs8USeKn13wLezr4z07ULDXIf%2BEo1JYxbX8qy30dsi3AWxFzIivObYRGZlDSFjzS6r%2Bxj8CNd0GDw9rcXjG8itWuPIurr4na/JdpFcRxxz232pr0z/ZpFij3W2/yWZFYoWGaAO9%2BH3ivQfHfgLRPG/hbXH1PTNZ0i2vtN1KSMI13BNEskcxUKoBZWDYCrjPQdKwvFum3Fx4guJo5LcA7MB7qNT9xexYEV1ejaNpPh3R7Tw/oGmwWVjYW0dvZWdtEEjghRQqRoo4VVUAADgAVxnjP/kZbn/gH/oC1tR%2BIUtir/Y93/wA9rX/wOi/%2BKo/se7/57Wv/AIHRf/FVVorp1ILX9j3f/Pa1/wDA6L/4qj%2Bx7v8A57Wv/gdF/wDFV5x8ev2nvgL%2BzH4b/wCEo%2BOHxM03QYHUm1tp5S9zdkdoYEBklP8Auqcd8V4bD%2B0z%2B3T%2B1NIF/ZN/Z8t/APhaQ5Tx78W43jmuU/vW2nREvyMFXclGB/hNedic0wuGq%2Byu51P5ILml80vhXnJxXqeZi83wWFq%2Bxu51P5ILml80tIrzk4r1Prn%2Bx7v/AJ7Wv/gdF/8AFV5x8Sv2qP2Yvg9dTad8TP2i/Auj3lucT6ddeLbP7Uh9DAshk/8AHa%2BeviL%2ByN4zPhqXxd%2B35/wUv8SS%2BHU5vtN0WS18LaZJx/qJDGS0y9tuQzcd68/%2BHHxH/wCCfnhqIaJ%2BxL/wTb1/4om1kMcHiiy8CCWzeReCDqeo5kBz3xjjI4rysVnWMpTUXGFJvZTk5TfpToqUvvdj3sj4W8ReLKMq%2BU5by0Yu0qtWSjTi%2BznzU6UX5Ou5f3T2wf8ABWf9m3UfEcekfAPwj4%2B%2BLOpQXSK1p8PfBtzcqH3DgyyiNMf7QLCoo/2of%2BChXjxcfCz/AIJvvpsD/c1Lx18SdOsfL9N1suZT%2BBqDwx43/wCCrHjiey0z4Y/sw/Cr4U2QmQWy%2BMfEsmpyQruGCsenKqA99pGOxpT%2Bzd/wUt8aDb44/wCChOkeHoH/ANdZ%2BDfhtbMSPRZ7h96fUDNcv1nN8S7qVV/4KUKa%2B%2BtJy%2BfKj3P%2BIZZhT/5G/EmDw76xpT9tJf8Agijidf8AuJ80WR4I/wCCxXjf99qXxF%2BBHgeF/uQ6TBdalcRj/aM7iMt9OKyPFv7MX7XmnWn9o/tC/wDBXKPQrJhlo9G0HRtDVF77Z3m3H6kVeH/BL/RPEv7/AOMP7YXxv8XSv/rYLvx21taH2WGFBsHturW8Kf8ABJ39gbwre/2rL8BbfWr1iDJd%2BJNWu9QaQ/7Szysh/wC%2Baf8AZuaVvipy/wC4mIn/AOk0oxXyuH%2BpXhXhv99zzGYl9VSozin/ANvVsRSVvP2fyPB/Fnw6/wCCeOjh5PjL/wAFbfHfi4j/AFtv/wALrjvIfcLFYqxH0BNcMlj/AMEKL67Z9G8B%2BOPiRdxna11ZweJLxi3plnjU/liv0D8Mfswfs1%2BCSreDv2e/BGlMn3W07wpZwke%2BUjBz7120EEFrCtvbQpHGgwiIoAUegA6U1w3VqfHGgv8AuHOo/vqVH%2BQf2T4HYb4coxWIfetiKMPwhRrP/wAmR%2BdPh%2BL/AIJ5WsgX4Y/8EfPi34hc/cmufhrLLb/8Cku7lgPxFd54fbxlMAPgt/wQq0C2B%2B5P4h1Hw9orL7sHjLH6ZzX27RXTT4dlDarGP%2BCjRj%2BLjNnVSzLw1wP%2B5cL4f/uLXxFT8IqgvuZ8j6d4T/4KDX8U58Of8E7fgB4e3QgZ1jxTa3JjG9TnNqg74H41p6V8Pv8AgrtbP52heGv2VtAXsIH1RpV/FCFr6v0//j0vv%2BvUf%2BjY6q10wyNJ64ip8nGP/pNNHXHjbL6H%2B7ZDl8PXDzm/vnibnzT/AMKZ/wCCuviT5Na/al%2BD/hoHq/h3ww14R7gXUgFH/DFH/BQPWPm8Wf8ABUy%2BOesei/D7R7IL7BllJNfS1Faf2JhpfHUqS9atT9HFGv8AxEnO6f8Au2FwdL/BgcL%2BdSFaX4nzT/w7r/aI1D5fEH/BTH4pSKfvDTtQsLQ/gVzij/h1XFqXzeL/ANur4/avn70Nx8WY0iP0RIxj86%2BlqKP7Byt/FBv1nUf51A/4ilxzH%2BFiY0/8GHwkPxjhL/c0fNP/AA5x/ZR1D/kcb/xj4iz94638TLp9312TJUlv/wAEWf8AgndA3mP%2Bz5azOer3HjrUXJ/O9xX0lRT/ANX8k64am/WKf53E/FfxOatHOsTFdo1pwX3Q5F%2BB4TpH/BIb/gnxpNjJcW37Mvh55VnjCNc63POoGHyD5lww7Dr6fWt2w/4Ju/sS6aALf9lT4ctt6faNJs5f/Q85r2OH/kC3H/X1D/6DLVWtaeT5TT%2BHD01/25D/AORPPxHiFx9i/wCNm%2BKl64iv/wDLUcFp37EX7KOkADSv2YPhfbY6GHwvpan8wlbNn%2BzR8EtPAFh8GfA8AHQQ6TYL/IV0lFdMcFhIfDTivSMV/wC2nj1uIeIMQ/3uNrS9a1Z/nVZT0r4VeENCcSaJ4Q8P2bDo1rHaxn/x3Fa39j3f/PW1/wDA6L/4qqtFbxgoK0bL5HmVa1avLmqycn3bbf3ttlr%2Bx7v/AJ7Wv/gdF/8AFUf2Pd/89rX/AMDov/iqq0VWpkad9pV01tZqJbb5bYg5vIh/y1c8fNz17VW/se7/AOe1r/4HRf8AxVGof8elj/16n/0bJVWkr2Atf2Pd/wDPa1/8Dov/AIqj%2Bx7v/nta/wDgdF/8VVWinqBa/se7/wCe1r/4HRf/ABVH9j3f/Pa1/wDA6L/4qqtFGoFr%2Bx7v/nta/wDgdF/8VXa%2BEoXt/D9vDIUJG/JRww%2B%2B3cEg1wFd54M/5Fq2/wCB/wDobVjWvylR3NSiiiuYoKKKKACiiigAooooAKKKKACiiigAooooAKKKKACiiigAooooA4XxD8fvC/hv4%2BeHv2ebzwzr8mqeJNJur%2B01aLTcabEsAyYnndl3SsAxCRhyoAMnlh49%2BF8VP2qV%2BEHj6y8F%2BJ/gP42ms9RkuVsPEdhLpElnMtvYy3s0nlnUBdJGiQuhd4FHmFF/5aIWz/jX4B/aK1/9o/wB8Svht4M8FX2g%2BEbfUVvH1zxnd2N5M15EkTBIYtNuExGEDAmUby2MJjJ2Nd%2BD3jPxf8aL74leIX0NrFPhi2gaFp87S3K299d3Dy6iZU2x%2BZA62%2BmqCrK7iKQER8EgGz8CfjHf/HHwVa%2BPZPhB4n8J2OoWVteaWPE82mtJewTxiRJEFjeXO0BSuRIUbJ4B5x84ft%2Bs9j/wUI/ZL1ncQi33jS0f0Jm0mAD9Vr1H9j79m3xX8C/EXibxDq3gXwR4L07WdH0axtPBXw7vp59MiuLMXfn6kTLbW%2B2e4FxDEyiNjssYS0shPy%2BZf8FKnbSv2nf2WfEyBcwfEu%2BtAXQMP9IsSuMHg5215ecaYNS7TpP7qsD7/wAM/e4plT/nw2Nj/wCBYLEr9D3GirX9sXf/ADxtf/AGL/4mj%2B2Lv/nja/8AgDF/8TX0ep%2BeFWirX9sXf/PG1/8AAGL/AOJo/ti7/wCeNr/4Axf/ABNGoFWirX9sXf8Azxtf/AGL/wCJo/ti7/542v8A4Axf/E0agVatah/x6WP/AF6n/wBGyUf2xd/88bX/AMAYv/ias32q3S21mwitvmtiTmziP/LVxx8vHTtSd7oDMoq1/bF3/wA8bX/wBi/%2BJo/ti7/542v/AIAxf/E09QKtFWv7Yu/%2BeNr/AOAMX/xNH9sXf/PG1/8AAGL/AOJo1Aq0Va/ti7/542v/AIAxf/E0f2xd/wDPG1/8AYv/AImjUCrVrXP%2BQ1ef9fUn/oRo/ti7/wCeNr/4Axf/ABNWdY1W6j1e6jWK2IW5cDdZxE/ePUlcmlrcDMoq1/bF3/zxtf8AwBi/%2BJo/ti7/AOeNr/4Axf8AxNPUCrRVr%2B2Lv/nja/8AgDF/8TR/bF3/AM8bX/wBi/8AiaNQPOviv%2Bzz4D%2BMfjbwb488WT6gl54J1Rr3T4rOdEiu8tFKILgMjF4luLa0uQqlT5tnCckKVbzq0/4J1/C%2B01TRL7/hafjiS38PXEbaTpkl5YfZ4bePW7HWo7bAswzILuwi/eFjM6O6vK/yFPor%2B2Lv/nja/wDgDF/8TR/bF3/zxtf/AABi/wDiaVr9Bngfhj/gnl8K9IfStK0X4k%2BNbTTNLutF1K40mG9svI1K80adbuznuC1qXJzFHG6xtGrIi/KHUOPQviH8HdP%2BJngey8I%2BIPGOsx3umaja6jpviWzNsl/a3lvIHjnUGAwFuqsrRFGR2VlIY16HpWq3UlyytFbf8e0x4s4h0iY9lqt/bF3/AM8bX/wBi/8AiaSWuwHjutfsj%2BGdX%2BBd/wDs/wBv8T/FljpGrec%2Br3lrJYtdX1xcag1/ezytLaOjG6kkmSaPZ5JjndFjQEEM8Yfsnt498FD4f%2BK/2h/iBcaXcaTc6TrVrDLpdtHq2nThVe1ljgsEjiAQNGstusM4WRh5v3dvsv8AbF3/AM8bX/wBi/8AiaP7Yu/%2BeNr/AOAMX/xNO3kB4drH7DHwf8RXmr2%2Bv6z4gutC1NdYe18KNeQpY6Vc6orC%2Bu7UxwrOk0hknYF5XWNriUxqm7jW0z9lLwjBpFxZ%2BIvHXiXXdQv/ABnpfibV9c1Sa0FzqF3p7WxtI5Fgt44VhT7JB8kcaZKFs72Zz63/AGxd/wDPG1/8AYv/AImj%2B2Lv/nja/wDgDF/8TRbyA8d8YfsdfDDx3471HxZ4m1nXJ9M1jUzqmreEPtMI0y71H%2Bzv7N%2B2OBF54f7KEXYswi3RrJ5fmDfVbw/%2Bx7Y%2BGLW5utH%2BP/xDi16a00uxg8Ui908XlvY6eLoW1n5YshbTQj7bdE%2BfDK7NLuZiyRsntf8AbF3/AM8bX/wBi/8AiaP7Yu/%2BeNr/AOAMX/xNFvIDyW0/Y98EWugaDodl8QfF8Xhzw3Lo%2B7wkdUhksNUuLC4mu7a7ufMhabzxckSyNFLEJmRBKJFUKDxx%2Byp4Q8b/AA58Z/DZ/G/iPTrfx54jGsa/fWEto08jf6OrWoE9vJE1s8VrHA8ckb7oS6EkNXscWq3R0ieTyrbIuYgP9Dixysnbbjt/nNVv7Yu/%2BeNr/wCAMX/xNJLfQDxT4gfsPfA34x%2BD7fw38cNFtvGmpWrWy2/izxB4b0g6pFbwXS3MdqskNlHGkG4MhRYxlJJBnLE1a8RfsgeAvGutate%2BPPGfinXNO1DTNSsdO0DUdRiNpokd8qLctZskSzI2EAjMksggUssIjU7a9h/ti7/542v/AIAxf/E0f2xd/wDPG1/8AYv/AImnbyA8LuP2JPDFxNceJP8AhdHjqPxbe39zcah45guNOj1K5jns7ezltiq2QtkhMNpa4EcCMHgWQMH3MdHRv2Pfh94e8TaLqGjeL/E0Ph/w/fWd9pPgY30L6Vb3VrYrY28qb4TcIEhRCIlnEJkXzDGXLM3sf9sXf/PG1/8AAGL/AOJo/ti7/wCeNr/4Axf/ABNFvICrXUfDb/l9/wC2f/s1YP8AbF3/AM8bX/wBi/8Aia6PwBeS3f2vzUiG3y8eVAif3uu0DNRVvyMFudHRRRXIWFFFc/b/ABY%2BFl18Qp/hHa/Erw/J4rtrQXVz4Yj1mA6jFAQpErWwbzFTDqdxXHzDnkUAdBRXMW/xs%2BDN5r2u%2BFrT4t%2BGJdT8L2zXHibTo9ft2n0iFV3GS6jD7rdAOSzhQBzWfcftM/s32ngey%2BJt1%2B0F4Ii8N6lemz07xDJ4rs1sbq4G7MMc5k8t5BsfKKxPytxwaAO3rg/Gf/Iy3P8AwD/0Ba7wEEZByD0Irg/Gf/Iy3P8AwD/0Ba2ofGTLYy6%2Be/2sv2ufGXg/xpZ/st/steE08UfFvXrMTxQzg/YPDlmx2/2hfSDhVHVY%2BrHH95Ff039o/wCPPgz9mX4KeIPjb47m/wBB0OxMqWyuA93OTtht0z/HJIVQem7J4BrwH9nKPSf2MP2dfFf7bn7ZOrraeNviBcrrni5mTM8AYEWOj26E5LRoQgj7MzAnagYedmmLl7RYWnPk0cqk9Pcprqm9FKT0i3slKVnZHmzo5pnWbUMkyuMpV6zV%2BRc00m%2BWKgtffqSfLDTRKU7e7dangD9k39mX9jDwveftSftUeMLXxR42t0%2B2eJPiX4yJmkW4JyEs4W3CAAnZGkS%2BYQQozwozo/2nP21f2uwtv%2Bx38Gl8A%2BEbgfL8TvibalZriM/8tLHThkvkcq8mY2B5Cmovgv8As2fEr9sXxhpv7V37c%2BltFp8E32v4d/B%2BYE2Wiwn/AFd1fIf%2BPi7ZcHa4wmcEDiOP63ACgKowB0ArkwOCq4mjajehQeyWlSf96cneUebfrUd7ylG/Kv1Wng%2BDfDKn9RwuHpY7Hx/iSleeFoz6xjFNLF1Yu/tKtWboc6cacKqTnL5s%2BHv/AATJ%2BD8fiWH4mftN%2BLNb%2BMvi%2BP5hqnjqfzbK2PUrb2AJhijyAQjB8Hpivo6xsLHS7KLTtMs4re3gjCQQQRhEjUDAVVHAAHYVLRXt4TAYPAxaoQUb7vdvzcneTfq2fM59xTxDxNVjPM8TKooaQi7KEF/LTpxUKdOPlCnFd77lrQ/%2BQ1Z/9fUf/oQqrVrQ/wDkNWf/AF9R/wDoQqrXV1PACiiimAUUUUAFFFFAFrT/APj0vv8Ar1H/AKNjqrVrT/8Aj0vv%2BvUf%2BjY6q0luwCiiimAUUUUAFFFFAFqH/kC3H/X1D/6DLVWrUP8AyBbj/r6h/wDQZaq0l1AKKKKYBRRRQAUUUUAWtQ/49LH/AK9T/wCjZKq1a1D/AI9LH/r1P/o2SqtJbAFFFFMAooooAK7zwZ/yLVt/wP8A9DauDrvPBn/ItW3/AAP/ANDasa/wDjualFFFcpYUUUUAFFFFABRRRQAUUUUAFFFFABRRRQAUUUUAFFFFABRRRQAUUUUAFfIH/BWFfsPiP9mzxD08r9onRrPd/wBd4blcfjtr6/r5B/4LHYtfhj8GdfPH9lftG%2BFbvd/dw1yuf/Hq8vOtMsqPtyv7p02foHhb73HuCh/P7aP/AIHhsXH82j26iiivpD87CiiigAooooAKtah/x6WP/Xqf/RslVatah/x6WP8A16n/ANGyUnugKtFFFMAooooAKKKKACrWuf8AIavP%2BvqT/wBCNVata5/yGrz/AK%2BpP/QjS6gVaKKKYBRRRQAUUUUAWtH/AOPt/wDr1n/9FPVWrWj/APH2/wD16z/%2BinqrS6gFFFFMAooooAKKKKALUP8AyBbj/r6h/wDQZaq1ah/5Atx/19Q/%2Bgy1VpLqAUUUUwCiiigArqPht/y%2B/wDbP/2auXrqPht/y%2B/9s/8A2as6v8NjW51FFFFcZYV8gWfh7xh4f/aA0rQdR%2BG3ij7bon7Qes%2BMdW8SW/hW8ms5tEutBvbS3kjuo4mjnfdeWdmbdWMqCBnZBHEHr6/ooA/PX40/AX4y%2BI/FOveCvhj4e8VahoHhe%2B8Y6zqOkal8PpbGW9h1HW7fUbnTo9QaVoNYW8bz3gSALsijVLr99tA6S907xJZ/tGeL/wBp/Vvgb421TwB4oTxVp%2Bj6LH4E1B764u7rRPCltFcS6c0H2i2jmfSNUtxLNGijerMVS4DH7mooA4z9nPwl4r8Afs9%2BBPAnjy487XNE8GaXYa1L5u/fdw2kUczbv4surHPek8WyaWviC4FxZ3Dv8m5kuVUH5F7FD/Ou0rg/GhA8SXJJwBsyT/uLW1H4hS2Pkb9qCHRf2jv%2BCgnwl/Zkk0%2Ba68O%2BB9PufH/jWxkuA8c8iH7PpsbfJtysxZyjA7kfoBzWX8KtH0D/AIKBftga98fPGtrdal8LPhNrP9j/AA20Z7pTa6lrUXN3qrjZtmEbFUiOCvQjBVs%2BJQ/GjxjrXg74sftIfDAPP43/AGifiUngD4SzKxHk6VaKbVb1WH%2BrUL5zsw4EiIxzzX3l%2Bzv8D/Cf7N3wT8N/BHwVGPsHh7TUtxNsCtcy8tLOwH8UkjO593NfKZfBZxjpTlrTcvaS87e7Qj5pRi6rW3vQ0PrOCakuF%2BCMVxOny4zNJ1KOGf2oYan%2B7rVoveLmrYenJWdqmIcWrtnfedov/QPuv/Axf/jdHnaL/wBA%2B6/8DF/%2BN1Vor7Sx8gWvO0X/AKB91/4GL/8AG6PO0X/oH3X/AIGL/wDG6q0UWA09Hl0g6vaiKxuQ32lNpa6UgHcOo2DNVvO0X/oH3X/gYv8A8bo0P/kNWf8A19R/%2BhCqtK2oFrztF/6B91/4GL/8bo87Rf8AoH3X/gYv/wAbqrRTsBa87Rf%2Bgfdf%2BBi//G6PO0X/AKB91/4GL/8AG6q0UWAtedov/QPuv/Axf/jdHnaL/wBA%2B6/8DF/%2BN1VoosBp2MukG2vNljcgC2G4G6U5Hmp0%2BTjnFVvO0X/oH3X/AIGL/wDG6NP/AOPS%2B/69R/6NjqrSS1YFrztF/wCgfdf%2BBi//ABujztF/6B91/wCBi/8AxuqtFOwFrztF/wCgfdf%2BBi//ABujztF/6B91/wCBi/8AxuqtFFgLXnaL/wBA%2B6/8DF/%2BN0edov8A0D7r/wADF/8AjdVaKLAacUukf2RORY3O37TFkfalyTtkxzs%2BtVvO0X/oH3X/AIGL/wDG6If%2BQLcf9fUP/oMtVaSQFrztF/6B91/4GL/8bo87Rf8AoH3X/gYv/wAbqrRTsBa87Rf%2Bgfdf%2BBi//G6PO0X/AKB91/4GL/8AG6q0UWAtedov/QPuv/Axf/jdHnaL/wBA%2B6/8DF/%2BN1VoosBp30ukC2s99jckG2O0C6UYHmv1%2BTnnNVvO0X/oH3X/AIGL/wDG6NQ/49LH/r1P/o2SqtJLQC152i/9A%2B6/8DF/%2BN0edov/AED7r/wMX/43VWinYC152i/9A%2B6/8DF/%2BN0edov/AED7r/wMX/43VWiiwFrztF/6B91/4GL/APG67XwkYG8P25t43RPn2q7hiPnbuAP5VwFd54M/5Fq2/wCB/wDobVjWXulR3NSiiiuYoKKKKACiiigAooooAKKKKACiiigAooooAKKKKACiiigAooooA8T%2BKi%2BKNK/bc%2BFF9Z/EXX00vVtF160u/DEWoeXprtDBHKJ3hQDzZSXUBpC4QRjywhaQv5D8bPG3xQ%2BBXxt%2BInxhnN94ltdQ8VjS/AcWlfFvUpBot8fCls8NnP4eQizdGuYZ523kygXaTeWV%2BcfSvjj9m39nX4m%2BLrb4gfEn4B%2BCvEOvWUapZ63rnha0u7yBVJKqk0sbOoBJIAIwTV22%2BCPwXsvHkHxTs/hF4Xi8T2tmtpa%2BI4tAtlv4bdUMawrcBPMVAhKBQ2ApxjFAHiv7Fer6lYfEzU/A%2BmfE/X/FehXPwh8G%2BJmv/EHiK41RxqV%2B%2BqpPNHLO7mNJ47W3k8iMrEm3ciIJDnlf%2BC1yi3/ZF0XXi4X%2Byfin4cu9xzxi7C54/wB%2Bvp3wB8Kvhf8ACiyu9O%2BFvw30Dw1b39211fQaBo8FmlxOQAZZFhVQ7kAAscnAHNfMP/BdBGi/4JveLtZjXLaZrWiXS465XU7cfyY15Wef8ibEPtCT%2B5X/AEPv/CnXxMyeP82IpR/8Dcof%2B3nu/wDZ9p/0HLX/AL4l/wDiKP7PtP8AoOWv/fEv/wARVRHWRBIjAhhkEdxS19JZ9z88LX9n2n/Qctf%2B%2BJf/AIij%2Bz7T/oOWv/fEv/xFVaKLPuBa/s%2B0/wCg5a/98S//ABFH9n2n/Qctf%2B%2BJf/iKq0UWfcC1/Z9p/wBBy1/74l/%2BIqzfWNq1tZg6xbDFsQCVl%2Bb96/I%2BT8OfSsyrWof8elj/ANep/wDRslJp3WoB/Z9p/wBBy1/74l/%2BIo/s%2B0/6Dlr/AN8S/wDxFVaKdn3Atf2faf8AQctf%2B%2BJf/iKP7PtP%2Bg5a/wDfEv8A8RVWiiz7gWv7PtP%2Bg5a/98S//EUf2faf9By1/wC%2BJf8A4iqtFFn3Atf2faf9By1/74l/%2BIqzrFjavq907axbKTcuSrLLkfMeDhMVmVa1z/kNXn/X1J/6EaVnfcA/s%2B0/6Dlr/wB8S/8AxFH9n2n/AEHLX/viX/4iqtFOz7gWv7PtP%2Bg5a/8AfEv/AMRR/Z9p/wBBy1/74l/%2BIqrRRZ9wLX9n2n/Qctf%2B%2BJf/AIij%2Bz7T/oOWv/fEv/xFVaKLPuBp6VY2q3LFdYtm/wBGmGAsv/PJueU7darf2faf9By1/wC%2BJf8A4ijR/wDj7f8A69Z//RT1VpWd9wLX9n2n/Qctf%2B%2BJf/iKP7PtP%2Bg5a/8AfEv/AMRVWinZ9wLX9n2n/Qctf%2B%2BJf/iKP7PtP%2Bg5a/8AfEv/AMRVWiiz7gWv7PtP%2Bg5a/wDfEv8A8RR/Z9p/0HLX/viX/wCIqrRRZ9wNOKxtRpE6f2xbEG5iJbbLgfLJx9zP/wCqq39n2n/Qctf%2B%2BJf/AIiiH/kC3H/X1D/6DLVWkk%2B4Fr%2Bz7T/oOWv/AHxL/wDEUf2faf8AQctf%2B%2BJf/iKq0U7PuBa/s%2B0/6Dlr/wB8S/8AxFH9n2n/AEHLX/viX/4iqtFFn3Atf2faf9By1/74l/8AiK6PwBbxQfa/Kvops%2BXnyg4x97ruUVyVdR8Nv%2BX3/tn/AOzVnVT5GNbnUUUUVyFhRRXinxJ/a41PwJ8Vr7wnY/DOG/8ADPh7WvDuj%2BLfEb68YbiyvdZuo7e2WC08hhcJGbi1eZ2mi2pPlBIUZaAPa6K%2Bftd/bjurD9q%2Bb9ljSPAOiXGpDVhp1pb3fjEwatcFtHOpLqQ09bVyNJDf6I16JSVnV0ETFQG5vxv%2B378VPhrqEul%2BPvg98OtJRfiHb%2BEV1/UPi/Pb6NHdHRb7VrlprubR0aMRR21vDxG6vLdFNyNCwIB9S18w/wDBTf4l6x8If2UPil4%2B8PTeVf2vheSGzmDYMMs6JbrIP9pTKGHuBX0X4L1u78S%2BENL8RX40wTX%2Bnw3En9i6mb2zJdA2YLgxxmeLn5ZNiblwdozivjv/AILe3str%2Bwf8Sba2/wBdeNo9rEPUvqNkCPyzXHmdWVDKsTUi7NU5tevKzyc%2BrTw%2BR4mpF2apza9eV2/M8e%2BDnwt0jTv2vv2ev2dNDj36b8Gfgtc%2BJdQIXCPqGoBLUs46by5eYDtvJFfdFfKv7B9nF4%2B/aj/aE%2BPSDzLSLxbZ%2BCtFk7Rw6RbCOYJ/svI6sexI4r6qpcPUoQwc6kVZSnK3%2BGNqcfwp/ifp3HtGGVVsuyKmrRwODw1JrtOdP6xV%2BfPiEn5xCiiivdPgwooooAtaH/yGrP8A6%2Bo//QhVWrWh/wDIas/%2BvqP/ANCFVaXUAooopgFFFFABRRRQBa0//j0vv%2BvUf%2BjY6q1a0/8A49L7/r1H/o2OqtJbsAooopgFFFFABRRRQBah/wCQLcf9fUP/AKDLVWrUP/IFuP8Ar6h/9BlqrSXUAooopgFFFFABRRRQBa1D/j0sf%2BvU/wDo2SqtWtQ/49LH/r1P/o2SqtJbAFFFFMAooooAK7zwZ/yLVt/wP/0Nq4Ou88Gf8i1bf8D/APQ2rGv8A47mpRRRXKWFFFFABRRRQAUUUUAFFFFABRRRQAUUUUAFFFFABRRRQAUUUUAFFcL4h%2BP3hfw38fPD37PN54Z1%2BTVPEmk3V/aatFpuNNiWAZMTzuy7pWAYhIw5UAGTyw8e/G%2BIH7V/hr4Z/ENPBHin4Y%2BMYtPfUl02PxcdNgTTJb9rF75LWMyTrPMTEhXzo4WgEh8ppVdXVQD1Ovlf/gtRp39p/wDBNb4k223O20tJv%2B/d3DJ/7LXtv7Pvxvuvj/4DsviPH8H/ABT4U0zVdNtNQ0dvFE2ms99b3EQlR0WxvLnZhSuRJsOWGAcHHmH/AAVk07%2B0/wDgnt8Ubbbnb4Wupv8Av3G0n/stcGax58qxEe9Of/pEj7Hw7r/VvEDKKv8ALisO/wDyvS/zOk8A6j/a/gXRdW3Z%2B1aTbTZ9d0St/WtauM/Zx1H%2B1/2efAerbs/avBmlzZ9d1pE39a7Ovaw8ufDwl3Sf3pP9T5nNaH1bNcRR/kqVI/8AgM5x/QKKKK1OAKKKKACrWof8elj/ANep/wDRslVatah/x6WP/Xqf/RslJ7oCrRRRTAKKKKACiiigAq1rn/IavP8Ar6k/9CNVata5/wAhq8/6%2BpP/AEI0uoFWiiimAUUUUAFFFFAFrR/%2BPt/%2BvWf/ANFPVWrWj/8AH2//AF6z/wDop6q0uoBRRRTAKKKKACiiigC1D/yBbj/r6h/9BlqrVqH/AJAtx/19Q/8AoMtVaS6gFFFFMAooooAK6j4bf8vv/bP/ANmrl66j4bf8vv8A2z/9mrOr/DY1udRRRRXGWFeH/Fj9kLXviD8SdU8U%2BH/ipa6VoXiLVfD%2Br%2BJdBufDrXUl1qGjXCXFnJFcLcx%2BTE7wWiTxmOQyR2%2B1HhLs1e4UUAeFp%2Bx54hk%2BN4%2BJl/8AFWyk0aXx9B40vNHi8MMl62rx6Kmk7Y703TCO0MaB/JMLScsnneWdla%2Bkfs7fEbwR8MdO8KfDn4uaRb67Z%2BNtW8R3Wsa94MGoWt7JqF3fXMsT24uYpY9pvcLJFcRsPJUHMbNEfXaKAOP%2BAHwhsPgJ8GvD3wf03WJNQj0LT1t2vZIFi89yS7ssa/LEhdm2xjIRdqgkLmvkj/guj4uPh79ke8g1G%2BkFlN400JZojKdmxLiOZuOn/LMmvuevze/4OOdU%2BwfslafZBub74iadER6gWN3J/wCyCvH4hqeyyDFT7Qf6HJjcGsxorBvatOlT/wDBtahT/wDch6j/AMEp/DXiXwL%2Bw34O1LWNSuRqniwXPiXVphKymea/nedZCM9TE0Qz3xX0V/bmtf8AQYuv/Ahv8a5b4U6Fb%2BF/hd4b8M2dusUWnaBZ2sUSjARY4EQKPYAYrfr28uwscJgKVBfZjFfclf73d/M%2Bp4uzeef8V4/Mpae2rVZ27JzlypeSioRXktNLFr%2B3Na/6DF1/4EN/jR/bmtf9Bi6/8CG/xqrRXZZdj50tf25rX/QYuv8AwIb/ABo/tzWv%2Bgxdf%2BBDf41VoosuwGno%2BsavLq9rFLqtyytcoGVp2II3Dg81W/tzWv8AoMXX/gQ3%2BNGh/wDIas/%2BvqP/ANCFVaVlfYC1/bmtf9Bi6/8AAhv8aP7c1r/oMXX/AIEN/jVWinZdgLX9ua1/0GLr/wACG/xo/tzWv%2Bgxdf8AgQ3%2BNVaKLLsBa/tzWv8AoMXX/gQ3%2BNH9ua1/0GLr/wACG/xqrRRZdgNOx1jV3trxn1W5JW2BUmduD5qDI59Cfzqt/bmtf9Bi6/8AAhv8aNP/AOPS%2B/69R/6NjqrSSV3oBa/tzWv%2Bgxdf%2BBDf40f25rX/AEGLr/wIb/GqtFOy7AWv7c1r/oMXX/gQ3%2BNH9ua1/wBBi6/8CG/xqrRRZdgLX9ua1/0GLr/wIb/Gj%2B3Na/6DF1/4EN/jVWiiy7AacWsaudInlOq3O4XMQDee2QCsmR19h%2BVVv7c1r/oMXX/gQ3%2BNEP8AyBbj/r6h/wDQZaq0kl2Atf25rX/QYuv/AAIb/Gj%2B3Na/6DF1/wCBDf41Vop2XYC1/bmtf9Bi6/8AAhv8aP7c1r/oMXX/AIEN/jVWiiy7AWv7c1r/AKDF1/4EN/jR/bmtf9Bi6/8AAhv8aq0UWXYDTvtY1dLazZNVuQWtiWInbk%2Ba4yefQD8qrf25rX/QYuv/AAIb/GjUP%2BPSx/69T/6NkqrSSVtgLX9ua1/0GLr/AMCG/wAaP7c1r/oMXX/gQ3%2BNVaKdl2Atf25rX/QYuv8AwIb/ABo/tzWv%2Bgxdf%2BBDf41VoosuwFr%2B3Na/6DF1/wCBDf412vhKee58P281xM8jtv3O7Ek/O3c1wFd54M/5Fq2/4H/6G1Y1klEqO5qUUUVzFBRRRQAUUUUAFFFFABRRRQAUUUUAFFFFABRRRQAUUUUAFFFFAHjHxr8A/tFa/wDtH%2BAPiV8NvBngq%2B0Hwjb6it4%2BueM7uxvJmvIkiYJDFptwmIwgYEyjeWxhMZOX4k%2BEX7R/jr9pFvH/AI78IeBdT8K6VZLbeCra48Y3pOiyzWRjvb6SwGnBLu6Z5ZrdWNzGFteE8pp593vdFAHg37Hn7M3iz4E%2BJ/EPiLVfAfgXwVp2q%2BH9G0228HfDm9uJtNNzZG787U2862t9k863EMRUI7bLOPfNKduzK/4KX/ETQbb9nTxx8DLi2mbVfE/wf8Xarp8hhRoRFYWkEcqkk5WQtfwFcDoknIwAfo6vi7/gp9eZ%2BPPw48NZ/wCQ78JPiZYbf72bHTJcf%2BQv0rzs1qOngZW%2B17v/AIFzR/U7cqx8ssz7L8Svs4nC/c8RRudz%2Bw94mutS/Yw%2BEt2EtmLfDbRAxaziJLLYQqeSuTyDXqX9sXf/ADxtf/AGL/4mvB/%2BCbmo/wBp/sH/AAqud2dvg61h/wC/YMf/ALLXt1ellbU8soS7wh/6RE9bjaj9W40zOl/LicQv/K9b/Mtf2xd/88bX/wAAYv8A4mj%2B2Lv/AJ42v/gDF/8AE1Vorusj5gtf2xd/88bX/wAAYv8A4mj%2B2Lv/AJ42v/gDF/8AE1VoosgLX9sXf/PG1/8AAGL/AOJqzfardLbWbCK2%2Ba2JObOI/wDLVxx8vHTtWZVrUP8Aj0sf%2BvU/%2BjZKTSugD%2B2Lv/nja/8AgDF/8TR/bF3/AM8bX/wBi/8Aiaq0U7IC1/bF3/zxtf8AwBi/%2BJo/ti7/AOeNr/4Axf8AxNVaKLIC1/bF3/zxtf8AwBi/%2BJo/ti7/AOeNr/4Axf8AxNVaKLIC1/bF3/zxtf8AwBi/%2BJqzrGq3Uer3UaxWxC3LgbrOIn7x6krk1mVa1z/kNXn/AF9Sf%2BhGlZXAP7Yu/wDnja/%2BAMX/AMTR/bF3/wA8bX/wBi/%2BJqrRTsgLX9sXf/PG1/8AAGL/AOJo/ti7/wCeNr/4Axf/ABNVaKLIC1/bF3/zxtf/AABi/wDiaP7Yu/8Anja/%2BAMX/wATVWiiyA09K1W6kuWVorb/AI9pjxZxDpEx7LVb%2B2Lv/nja/wDgDF/8TRo//H2//XrP/wCinqrSsrgWv7Yu/wDnja/%2BAMX/AMTR/bF3/wA8bX/wBi/%2BJqrRTsgLX9sXf/PG1/8AAGL/AOJo/ti7/wCeNr/4Axf/ABNVaKLIC1/bF3/zxtf/AABi/wDiaP7Yu/8Anja/%2BAMX/wATVWiiyA04tVujpE8nlW2RcxAf6HFjlZO23Hb/ADmq39sXf/PG1/8AAGL/AOJoh/5Atx/19Q/%2Bgy1VpJIC1/bF3/zxtf8AwBi/%2BJo/ti7/AOeNr/4Axf8AxNVaKdkBa/ti7/542v8A4Axf/E0f2xd/88bX/wAAYv8A4mqtFFkBa/ti7/542v8A4Axf/E10fgC8lu/tfmpENvl48qBE/vddoGa5Kuo%2BG3/L7/2z/wDZqzqpcjGtzqKKKK5Cwoor5j0D46/GS5%2BPGkeILz4gzSeHte%2BN2seAR4JOm2gt7S0s9Hv7hLxJRELlrlrjTzI26UxeTOwEYKq9AH05RXwhq/7Sn7aviTxH4u0f4c%2BJPEk02qQeNYfBUsOi6K9hfTaZrcFtarooaI3BnitTMtx/aQ8qWVWe38yIbx1dx8ePjB4v8Rv8DvBPx08d%2BGtc8OeG/FmreKr7xnoPh6TVbfUdOi0OS0sJRaWzWL2bQa1Fcu8A81leJRMh3gAH2JX5hf8AByHPJffCrwJ4SifDah4%2BjZQO5WykT/2r%2Btfoz8GvHN38T/hB4U%2BJd/pws5/EXhqx1Oa0XOIHnt0lKc8/KXxz6V%2Bcv/BwBBJqnxW%2BAHg8shGr%2BO5dqeauTtbT4%2BRnI/13fHWvn%2BKn/wAY9iI/zKK%2B%2BcEdmVLm4gy6PfF4T8MVQl/7YfdkUaQxrDEuFRQFA7AU6rX9j3f/AD2tf/A6L/4qj%2Bx7v/nta/8AgdF/8VX190cDu2VaKtf2Pd/89rX/AMDov/iqP7Hu/wDnta/%2BB0X/AMVRdCKtFWv7Hu/%2Be1r/AOB0X/xVH9j3f/Pa1/8AA6L/AOKougDQ/wDkNWf/AF9R/wDoQqrWno%2BlXUer2sjS2xC3KE7byIn7w7Bsmq39j3f/AD2tf/A6L/4qldXAq0Va/se7/wCe1r/4HRf/ABVH9j3f/Pa1/wDA6L/4qndAVaKtf2Pd/wDPa1/8Dov/AIqj%2Bx7v/nta/wDgdF/8VRdAVaKtf2Pd/wDPa1/8Dov/AIqj%2Bx7v/nta/wDgdF/8VRdAGn/8el9/16j/ANGx1VrTsdKultrxTLbfNbADF5Ef%2BWqHn5uOneq39j3f/Pa1/wDA6L/4qkmrsCrRVr%2Bx7v8A57Wv/gdF/wDFUf2Pd/8APa1/8Dov/iqd0BVoq1/Y93/z2tf/AAOi/wDiqP7Hu/8Anta/%2BB0X/wAVRdAVaKtf2Pd/89rX/wADov8A4qj%2Bx7v/AJ7Wv/gdF/8AFUXQBD/yBbj/AK%2Bof/QZaq1pxaVdDSJ4/Ntsm5iI/wBMixwsnfdjv/nFVv7Hu/8Anta/%2BB0X/wAVSTQFWirX9j3f/Pa1/wDA6L/4qj%2Bx7v8A57Wv/gdF/wDFU7oCrRVr%2Bx7v/nta/wDgdF/8VR/Y93/z2tf/AAOi/wDiqLoCrRVr%2Bx7v/nta/wDgdF/8VR/Y93/z2tf/AAOi/wDiqLoA1D/j0sf%2BvU/%2BjZKq1p32lXTW1moltvltiDm8iH/LVzx83PXtVb%2Bx7v8A57Wv/gdF/wDFUk1YCrRVr%2Bx7v/nta/8AgdF/8VR/Y93/AM9rX/wOi/8Aiqd0BVoq1/Y93/z2tf8AwOi/%2BKo/se7/AOe1r/4HRf8AxVF0BVrvPBn/ACLVt/wP/wBDauN/se7/AOe1r/4HRf8AxVdr4She38P28MhQkb8lHDD77dwSDWNZpxKjuaNFFFcxQUUUUAFFFFABRRRQAUUUUAFFFFABRRRQAUUUUAFFFFABRRRQAUV4/wDEjxf8WPD37Ynw28Maf49hi8HeI9G1mO/8Nx6REXmureJJVuJLl9z4AZFSOMRgfvC5k3II/Ifjj%2B1T8bvhd4j8b/GbTPGE1zofg34mr4Th%2BHv9m2v2e9tj4fhvTcNN5X2oXP2q4DgrKIvIjC%2BUWJkoA%2Bvq%2BJf%2BCn1nMP2wP2Z9S3HyLg%2BN9IlXsxvNHjRR%2BaV6/wDsofED4tz/ABI1L4XfFH4pT%2BMd3wz8MeLIdVutMs7Z7a51GXUobi3RbSKJfs2bGN4d4eUbpQ0kmFI85/4KsW403x5%2BzR4zIUCH4%2B6bpRd2AAF7bzx4JPAB2V5WdK%2BXtvpKm/uqQ/zPIzurLD4FV4706lGf/gNakzF/4JL6j/an/BO/4ZXO7O3S7qHP/XO%2BuI//AGWvouvmf/gjZp90f%2BCfHg7SRNBnTNS1q0Iku41I26rdnoWz/FX1F/Y93/z2tf8AwOi/%2BKruyGalkeFb/wCfcP8A0lL9D9P8U6So%2BJmdQjt9bxFvR1ZNfhJFWirX9j3f/Pa1/wDA6L/4qj%2Bx7v8A57Wv/gdF/wDFV610fBlWirX9j3f/AD2tf/A6L/4qj%2Bx7v/nta/8AgdF/8VRdAVatah/x6WP/AF6n/wBGyUf2Pd/89rX/AMDov/iqs32lXTW1moltvltiDm8iH/LVzx83PXtSbV0BmUVa/se7/wCe1r/4HRf/ABVH9j3f/Pa1/wDA6L/4qndAVaKtf2Pd/wDPa1/8Dov/AIqj%2Bx7v/nta/wDgdF/8VRdAVaKtf2Pd/wDPa1/8Dov/AIqj%2Bx7v/nta/wDgdF/8VRdAVata5/yGrz/r6k/9CNH9j3f/AD2tf/A6L/4qrOsaVdSavdSLLbANcuRuvIgfvHqC2RSurgZlFWv7Hu/%2Be1r/AOB0X/xVH9j3f/Pa1/8AA6L/AOKp3QFWirX9j3f/AD2tf/A6L/4qj%2Bx7v/nta/8AgdF/8VRdAVaKtf2Pd/8APa1/8Dov/iqP7Hu/%2Be1r/wCB0X/xVF0AaP8A8fb/APXrP/6KeqtaelaVdR3LM0tt/wAe0w4vIj1iYdmqt/Y93/z2tf8AwOi/%2BKpXVwKtFWv7Hu/%2Be1r/AOB0X/xVH9j3f/Pa1/8AA6L/AOKp3QFWirX9j3f/AD2tf/A6L/4qj%2Bx7v/nta/8AgdF/8VRdAVaKtf2Pd/8APa1/8Dov/iqP7Hu/%2Be1r/wCB0X/xVF0AQ/8AIFuP%2BvqH/wBBlqrWnFpV0NInj822ybmIj/TIscLJ33Y7/wCcVW/se7/57Wv/AIHRf/FUk0BVoq1/Y93/AM9rX/wOi/8AiqP7Hu/%2Be1r/AOB0X/xVO6Aq0Va/se7/AOe1r/4HRf8AxVH9j3f/AD2tf/A6L/4qi6Aq11Hw2/5ff%2B2f/s1YP9j3f/Pa1/8AA6L/AOKro/AFnLafa/NeI7vLx5U6P/e67ScVnVa5GNbnR0UUVyFhXnt5%2Byx8D7z4lXHxdbwvfRa9c3Ru3uLTxHfwQpdtAls13HbxzrDFctBGsLXCIsrxFo2cozKfQqKAPLJ/2K/2a7rU9Y1W5%2BH9xI%2BtxX6XML%2BItQMFqb24S5u5LOEz%2BXp8stwiTPLarE7SKHLbuag1P9hv9mbWfDn/AAjOq%2BCNSnje8u7m7v5PF%2BqnUL9rqGKC5S6vftP2m7ilhggieKaR42S3hQqViQL61RQBHa2trY2sdlZW0cMMMYSGGJAqooGAoA4AA4AFfl//AMFpWGv/APBQr9l7wcfm3eNIWK%2Bglv8AS0J/KM/lX6iV%2BXH/AAVAP9uf8Fmf2dfDfX7I1je7fT/TWbP/AJA/SvnuJ9cqUP5qlFffVh/kd2TK/EmXLtiKcv8AwCNep/7jT%2BR970UUV9ieaFFFFABRRRQBa0P/AJDVn/19R/8AoQqrVrQ/%2BQ1Z/wDX1H/6EKq0uoBRRRTAKKKKACiiigC1p/8Ax6X3/XqP/RsdVataf/x6X3/XqP8A0bHVWkt2AUUUUwCiiigAooooAtQ/8gW4/wCvqH/0GWqtWof%2BQLcf9fUP/oMtVaS6gFFFFMAooooAKKKKALWof8elj/16n/0bJVWrWof8elj/ANep/wDRslVaS2AKKKKYBRRRQAV3ngz/AJFq2/4H/wChtXB13ngz/kWrb/gf/obVjX%2BAcdzUooorlLCiiigAooooAKKKKACiiigAooooAKKKKACiiigAooooAKKKKAPPviL%2BzB8Jfin8RtI%2BLHi8eKP7c0KJo9JuNK8f6zp0Nsr8Pi3tLuOElwAHJQlwAGyABSy/st/A24%2BJMfxavPBs1xrcbrK0l1rN5LbTXC2ZsRdy2rzG3muvshNv9peNpvK%2BTftGK9AooA4n4N/s7/CH4A293bfCzw1cWQvYLa3mkvdYu76Rba3VltrWN7qWRoreFXcRwIVij8x9irubPzt/wWi/4lv7PPw/8a5x/wAI38cPDOp7/wC7tmkjz/5Er6/r5G/4Lk2M8/8AwTc8Z6rZrm40rUtIvrc%2BjR6jbkn/AL5LV5edp/2RXa6Rb/8AAbS/9tPE4kT/ALAxTXSDf/gNpf8AtpxH/BJL/Rf2Y9Z0H/oFfEvxDabfTF6zY/8AH6%2BoK%2BWf%2BCU17BceAPi5Y2rZjsvj/wCJoI/Zd0Dj9Hr6mrs4fa/sWh5Rt90pr9D9X8VWpeIuZTX26in/AOB0sPU/9vCiiivYPz8KKKKACrWof8elj/16n/0bJVWrWof8elj/ANep/wDRslJ7oCrRRRTAKKKKACiiigAq1rn/ACGrz/r6k/8AQjVWrWuf8hq8/wCvqT/0I0uoFWiiimAUUUUAFFFFAFrR/wDj7f8A69Z//RT1Vq1o/wDx9v8A9es//op6q0uoBRRRTAKKKKACiiigC1D/AMgW4/6%2Bof8A0GWqtWof%2BQLcf9fUP/oMtVaS6gFFFFMAooooAK6j4bf8vv8A2z/9mrl66j4bf8vv/bP/ANmrOr/DY1udRRRRXGWFc/b/ABY%2BFl18Qp/hHa/Erw/J4rtrQXVz4Yj1mA6jFAQpErWwbzFTDqdxXHzDnkV0FfIFn4e8YeH/ANoDStB1H4beKPtuiftB6z4x1bxJb%2BFbyazm0S60G9tLeSO6jiaOd915Z2Zt1YyoIGdkEcQegD6Ug%2BPHwOute1zwrbfGbwpJqnhi1kufEumx%2BIrY3GkwR48yW5jD7oEXIyzhQM8msjUP2tv2U9J8OaZ4w1X9pv4e22ka1JPHo%2BqXHjSxS2v3gKiZYZTLtlMZZQ4UnaWGcZFfI3h/wv4r%2BHvxI8Q%2BNfHvwJ8eeNdM0GH4jXepfDmbwDLPpll9u16G7tE0mYWudTk1Aqk0itLdiIu7KtmkZhOnd%2BGdb0vT4P2j9K8RfFzTfiLqk/ia%2B1C88H/Be/ksxq91aaOkWn/Y9S09rhbUQ6dZwpdeTHHMbe4Z57eRwlAH3Lb3EF3Al1azpLFKgeOSNgyupGQQR1BHevy6/bVx4l/4OCPhDpIORp/hG3O30KR6pcE/kB%2BVfpl4CvPFuoeBdFv/AB/pcFjr0%2Bk20mt2VrJvit7tolM0aNk5VZCwBycgDmvzM%2BKr22vf8HIWiC4ikkTRPB%2BHVJADk6JcEc4OP9eO1fPcR60sND%2BavR/CV/0PQyNX4jwb/ldaf/gGDxsv1PvmirXnaL/0D7r/AMDF/wDjdHnaL/0D7r/wMX/43X2F/I8sq0Va87Rf%2Bgfdf%2BBi/wDxujztF/6B91/4GL/8bov5AVaKtedov/QPuv8AwMX/AON0edov/QPuv/Axf/jdF/IA0P8A5DVn/wBfUf8A6EKq1p6PLpB1e1EVjchvtKbS10pAO4dRsGaredov/QPuv/Axf/jdK%2BoFWirXnaL/ANA%2B6/8AAxf/AI3R52i/9A%2B6/wDAxf8A43Tv5AVaKtedov8A0D7r/wADF/8AjdHnaL/0D7r/AMDF/wDjdF/ICrRVrztF/wCgfdf%2BBi//ABujztF/6B91/wCBi/8Axui/kAaf/wAel9/16j/0bHVWtOxl0g215ssbkAWw3A3SnI81Onycc4qt52i/9A%2B6/wDAxf8A43ST1YFWirXnaL/0D7r/AMDF/wDjdHnaL/0D7r/wMX/43Tv5AVaKtedov/QPuv8AwMX/AON0edov/QPuv/Axf/jdF/ICrRVrztF/6B91/wCBi/8AxujztF/6B91/4GL/APG6L%2BQBD/yBbj/r6h/9BlqrWnFLpH9kTkWNzt%2B0xZH2pck7ZMc7PrVbztF/6B91/wCBi/8AxukmBVoq152i/wDQPuv/AAMX/wCN0edov/QPuv8AwMX/AON07%2BQFWirXnaL/ANA%2B6/8AAxf/AI3R52i/9A%2B6/wDAxf8A43RfyAq0Va87Rf8AoH3X/gYv/wAbo87Rf%2Bgfdf8AgYv/AMbov5AGof8AHpY/9ep/9GyVVrTvpdIFtZ77G5INsdoF0owPNfr8nPOaredov/QPuv8AwMX/AON0k9AKtFWvO0X/AKB91/4GL/8AG6PO0X/oH3X/AIGL/wDG6d/ICrRVrztF/wCgfdf%2BBi//ABujztF/6B91/wCBi/8Axui/kBVrvPBn/ItW3/A//Q2rjfO0X/oH3X/gYv8A8brtfCRgbw/bm3jdE%2BfaruGI%2Bdu4A/lWNZ%2B6VHc0aKKK5igooooAKKKKACiiigAooooAKKKKACiiigAooooAKKKKACiiigDhvFf7SXwa8E/Eu0%2BEXiXxXNBrl41mojj0e7ltrd7uV4rSO4uo4mt7V55I3SJJpEaVgFQMSAaXjn9q34M/DXxvD8P/ABxc%2BJdPvrm5e3tbmTwDrLWE8qWkt46x3qWhtpCtvDNIdspwInB5UgeSfHb4JfGzVPin4t0vwj8M7rWNG8b%2BLvBXiIeJLbVLKNNKGi3trPdWskc88cpleOwj8ho0dDLdfvGiVCx9B8cfDXxt8S/jfceJvEPgov4e0r4W3FnoFtd6nFEJ9W1KV1vInMZkaJ4re1toxOFZQt7MEL/OKAOy%2BDvxw8A/Hfw6PFnw6j8QNpzwwzQXOueD9T0gXEcqb45IRf28JmQrg7kDAZGSMivH/wDgrXoX/CRf8E8vijYbN3l%2BGbi6x/1wQzZ/8h5rS/Yq%2BHHxR%2BHV/run6x4M8X%2BFfBUfh/Q7Pwz4V8ceNItdvbW/gW6W%2BminjurkR2rxtYRxxeYoDW8rCGIP83R/t0aOniP9kX4i%2BG3tUm/tHwVq9qqvngyWFwoIwRzz349q5cdT9tgasO8Jr/yWRwZrS9vlden3hNffCR8a/wDBGnX/AD/D3xY8PXT/AOlT%2BOrfxG6%2BsWqabbTxN/wIITX2nX5//wDBKDxPB4a/aEtNGksYWj8f/s4eFNZUOzhXl0of2SSMMMthTkV%2BhX9oWn/QDtf%2B%2B5f/AIuubhSq55JTj/K5L8eZfhNH6Bx3U%2Bu5lhMzW2LweBr/ADnhKEJfdOhNfIq0Va/tC0/6Adr/AN9y/wDxdH9oWn/QDtf%2B%2B5f/AIuvorvsfFFWirX9oWn/AEA7X/vuX/4uj%2B0LT/oB2v8A33L/APF0XfYCrVrUP%2BPSx/69T/6Nko/tC0/6Adr/AN9y/wDxdWb6%2BtVtrMnR7Y5tiQC0vy/vX4Hz/jz60m3daAZlFWv7QtP%2BgHa/99y//F0f2haf9AO1/wC%2B5f8A4und9gKtFWv7QtP%2BgHa/99y//F0f2haf9AO1/wC%2B5f8A4ui77AVaKtf2haf9AO1/77l/%2BLo/tC0/6Adr/wB9y/8AxdF32Aq1a1z/AJDV5/19Sf8AoRo/tC0/6Adr/wB9y/8AxdWdYvrVNXukbR7ZiLlwWZpcn5jycPild32AzKKtf2haf9AO1/77l/8Ai6P7QtP%2BgHa/99y//F07vsBVoq1/aFp/0A7X/vuX/wCLo/tC0/6Adr/33L/8XRd9gKtFWv7QtP8AoB2v/fcv/wAXR/aFp/0A7X/vuX/4ui77AGj/APH2/wD16z/%2BinqrWnpV9atcsF0e2X/RpjkNL/zybjl%2B/Sq39oWn/QDtf%2B%2B5f/i6V3fYCrRVr%2B0LT/oB2v8A33L/APF0f2haf9AO1/77l/8Ai6d32Aq0Va/tC0/6Adr/AN9y/wDxdH9oWn/QDtf%2B%2B5f/AIui77AVaKtf2haf9AO1/wC%2B5f8A4uj%2B0LT/AKAdr/33L/8AF0XfYAh/5Atx/wBfUP8A6DLVWtOK%2BtTpE7/2PbAC5iBXdLg/LJz9/P8A%2Buq39oWn/QDtf%2B%2B5f/i6Sb7AVaKtf2haf9AO1/77l/8Ai6P7QtP%2BgHa/99y//F07vsBVoq1/aFp/0A7X/vuX/wCLo/tC0/6Adr/33L/8XRd9gKtdR8Nv%2BX3/ALZ/%2BzVg/wBoWn/QDtf%2B%2B5f/AIuuj8AXEU/2vyrGKHHl58ouc/e67mNZ1W%2BRjW50dFFFchYUUUUAFFFFABX5Y6VnxH/wcbfEC9X5o9K8KRKh9Nuj6fG3/j0pr9Tq/Kv9mGc%2BJ/8Agvb8fNYf5lsNAvYlb0ZJtLgA/JG/Kvnc897GZfDvXi/ujNnpZEn/AG7Cf8lDGy%2B7CTh%2BdVH6CUUUV9keSFFFFABRRRQBa0P/AJDVn/19R/8AoQqrVrQ/%2BQ1Z/wDX1H/6EKq0uoBRRRTAKKKKACiiigC1p/8Ax6X3/XqP/RsdVataf/x6X3/XqP8A0bHVWkt2AUUUUwCiiigAooooAtQ/8gW4/wCvqH/0GWqtWof%2BQLcf9fUP/oMtVaS6gFFFFMAooooAKKKKALWof8elj/16n/0bJVWrWof8elj/ANep/wDRslVaS2AKKKKYBRRRQAV3ngz/AJFq2/4H/wChtXB13ngz/kWrb/gf/obVjX%2BAcdzUooorlLCiiigAooooAKKKKACiiigAooooAKKKKACiiigAooooAKKKKACiiigArlPjRo8fiHwFd6BLjZfJJbtnph4nU/zrq6wfiH/yBYv%2Bvpf/AEFqqCUpWZM0pRafU/Jf9hzWJPDN7%2Bxt8TpQY01nSPGHgvWGPBQxXNxJaxn1zIp4r9Nq/LzRv%2BKE/YZ8LeP4/wB2fgz%2B1e8l0448u1GpPHLGfRW%2B0pn8K/UOvn%2BEm4YaVF/y0pffT5H/AOTUmfTV28d4X8L456uOHrYaT88PXbjf/uHXXySCiiivrj5cKKKKACrWof8AHpY/9ep/9GyVVq1qH/HpY/8AXqf/AEbJSe6Aq0UUUwCiiigAooooAKta5/yGrz/r6k/9CNVata5/yGrz/r6k/wDQjS6gVaKKKYBRRRQAUUUUAWtH/wCPt/8Ar1n/APRT1Vq1o/8Ax9v/ANes/wD6KeqtLqAUUUUwCiiigAooooAtQ/8AIFuP%2BvqH/wBBlqrVqH/kC3H/AF9Q/wDoMtVaS6gFFFFMAooooAK6j4bf8vv/AGz/APZq5euo%2BG3/AC%2B/9s//AGas6v8ADY1udRRRRXGWFeKaT%2B1xqepfGm28ESfDOGPwnqPjy98GaX4pGvFrmbWLTT5r2YPZ%2BQFjtv8ARbqBZfPZzLEo8oK4eva68Lb9kDxTafFqHxronxbsYvD2nePLvxpo3hy78LvLJb6xdWEtlOZLlbtPNtitzdzLEI0dZplYyskYjIBxN7/wU4sLDx34t8Dn4X6fd3nh6XVLW10nTvGCy6rFeW2rW2lWkep2htlGmR3811FLbS%2BZN5kDeZt6gbGo/tz/ABJh1/VvhVpH7Pmm33j/AMMf2zP4p0JPG7pYQ2mnWek3jPa3hsd9xLNFreniON4IRvaYM6CLc1PW/wDgnNeeJJbjT9V%2BNUSaZp13r%2BoeCxZ%2BFxHfadqGqaxDq5nu7hrllv0hu4IykYig3Kq%2BYzuoerepfsK/Ea41vVvilpP7Qmn2Pj/xR/bUHirXo/BTNYzWmo2elWbR2tm17utpYYtE07ypHnmAdJi6OJdqgHv/AIH8YaJ8Q/BWj%2BP/AA1M8mm65pdvqGnySLtZoJo1kjJHYlWHFflx/wAE7S%2Buf8FeP2pfEjqc2uu6vZBiOw1goP8A0R%2BlfqP4I8H6J8PfBekeAfDMDRaboel2%2Bn6fG7bikEMaxxgnuQqjmvzV/wCCXcd1D/wUT/a%2B1myupIjB8RryB2icr9/WdVbBx/1zr5/NYuec5cv%2Bnk391KR62RRax%2BJq9I4PF/8Ak/1Smv8A0pn3dRVr%2B3Na/wCgxdf%2BBDf40f25rX/QYuv/AAIb/Gvr9TxSrRVr%2B3Na/wCgxdf%2BBDf40f25rX/QYuv/AAIb/GjUCrRVr%2B3Na/6DF1/4EN/jR/bmtf8AQYuv/Ahv8aNQDQ/%2BQ1Z/9fUf/oQqrWno%2BsavLq9rFLqtyytcoGVp2II3Dg81W/tzWv8AoMXX/gQ3%2BNLW4FWirX9ua1/0GLr/AMCG/wAaP7c1r/oMXX/gQ3%2BNPUCrRVr%2B3Na/6DF1/wCBDf40f25rX/QYuv8AwIb/ABo1Aq0Va/tzWv8AoMXX/gQ3%2BNH9ua1/0GLr/wACG/xo1ANP/wCPS%2B/69R/6NjqrWnY6xq7214z6rckrbAqTO3B81Bkc%2BhP51W/tzWv%2Bgxdf%2BBDf40le7Aq0Va/tzWv%2Bgxdf%2BBDf40f25rX/AEGLr/wIb/GnqBVoq1/bmtf9Bi6/8CG/xo/tzWv%2Bgxdf%2BBDf40agVaKtf25rX/QYuv8AwIb/ABo/tzWv%2Bgxdf%2BBDf40agEP/ACBbj/r6h/8AQZaq1pxaxq50ieU6rc7hcxAN57ZAKyZHX2H5VW/tzWv%2Bgxdf%2BBDf40lcCrRVr%2B3Na/6DF1/4EN/jR/bmtf8AQYuv/Ahv8aeoFWirX9ua1/0GLr/wIb/Gj%2B3Na/6DF1/4EN/jRqBVoq1/bmtf9Bi6/wDAhv8AGj%2B3Na/6DF1/4EN/jRqAah/x6WP/AF6n/wBGyVVrTvtY1dLazZNVuQWtiWInbk%2Ba4yefQD8qrf25rX/QYuv/AAIb/Gkr2Aq0Va/tzWv%2Bgxdf%2BBDf40f25rX/AEGLr/wIb/GnqBVoq1/bmtf9Bi6/8CG/xo/tzWv%2Bgxdf%2BBDf40agVa7zwZ/yLVt/wP8A9DauN/tzWv8AoMXX/gQ3%2BNdr4SnnufD9vNcTPI7b9zuxJPzt3NY1r8pUdzRooormKCiiigAooooAKKKKACiiigAooooAKKKKACiiigAooooAKKKKAPmP40fHX4yeH/jB4o1/w58QZrDQ/AnjPwPoB8JJpto8GtJrN/aQXc80skTXAcR36LAIZI1Elt84kDlRm/Fz4/8Axt%2BAnxm%2BIHjr4paj8QYvBtnqxh%2BHNnaaXoR8O6ht8N29yttcSeU2qCSS/S%2BUSKwiDrGhcAhW9w8c/sxfBT4j%2BP4fid4t8K3U2swx2qme1129tYpzbPJJayTQQTJFPLBJLJJDLIjPC5DxsjAERT/sq/Ay8%2BIafFDUPCl5d6qlyl0Y73xDfzWUt0lp9jW7ksnnNtLci3Ai%2B0PGZdoA38CgDh/2UPiB8W5/iRqXwu%2BKPxSn8Y7vhn4Y8WQ6rdaZZ2z21zqMupQ3Fui2kUS/Zs2Mbw7w8o3ShpJMKR7D47tpLrSI44mjBFyD%2B8lVB91u7ECsP4N/s7/CH4A293bfCzw1cWQvYLa3mkvdYu76Rba3VltrWN7qWRoreFXcRwIVij8x9irubOx8Q/8AkCxf9fS/%2BgtV0/jQnsfl7qHw%2BOrfs0ftvfsxaskUes6J481fxnb6dJOm5rC4SHULSSLn94D9kJ%2BXOCyg8kCvub9m/wAU3PxY/Z78DfE4Xds58QeEdO1CRmvYgd8ttG7AgtkEMxBB6EGvnD9tvR9M%2BAH7UngD9ru9so28KeKYm%2BHvxXhcfunsLwk2lzL2Cxy5DueduxR1qX9j3X9b/Y%2B%2BOd//AME8fiXqk02hXEc%2Br/BTXL1yxu9NLF5tLZz96a3JYgdSmT8q%2BWK%2BZy%2BbyzNXRqaRX7u/%2BKcqtJvykpzhfbnjbqj6jg2m868Osdw9Sd8TluIniox6zwtWny1ZQ7um1CpOK15Izkvgkl9ff2Pd/wDPa1/8Dov/AIqj%2Bx7v/nta/wDgdF/8VVWivstT5Qtf2Pd/89rX/wADov8A4qj%2Bx7v/AJ7Wv/gdF/8AFVVoo1Atf2Pd/wDPa1/8Dov/AIqrN9pV01tZqJbb5bYg5vIh/wAtXPHzc9e1ZlWtQ/49LH/r1P8A6NkpO90Af2Pd/wDPa1/8Dov/AIqj%2Bx7v/nta/wDgdF/8VVWinqBa/se7/wCe1r/4HRf/ABVH9j3f/Pa1/wDA6L/4qqtFGoFr%2Bx7v/nta/wDgdF/8VR/Y93/z2tf/AAOi/wDiqq0UagWv7Hu/%2Be1r/wCB0X/xVWdY0q6k1e6kWW2Aa5cjdeRA/ePUFsisyrWuf8hq8/6%2BpP8A0I0tbgH9j3f/AD2tf/A6L/4qj%2Bx7v/nta/8AgdF/8VVWinqBa/se7/57Wv8A4HRf/FUf2Pd/89rX/wADov8A4qqtFGoFr%2Bx7v/nta/8AgdF/8VR/Y93/AM9rX/wOi/8Aiqq0UagaelaVdR3LM0tt/wAe0w4vIj1iYdmqt/Y93/z2tf8AwOi/%2BKo0f/j7f/r1n/8ART1Vpa3Atf2Pd/8APa1/8Dov/iqP7Hu/%2Be1r/wCB0X/xVVaKeoFr%2Bx7v/nta/wDgdF/8VR/Y93/z2tf/AAOi/wDiqq0UagWv7Hu/%2Be1r/wCB0X/xVH9j3f8Az2tf/A6L/wCKqrRRqBpxaVdDSJ4/Ntsm5iI/0yLHCyd92O/%2BcVW/se7/AOe1r/4HRf8AxVEP/IFuP%2BvqH/0GWqtJXAtf2Pd/89rX/wADov8A4qj%2Bx7v/AJ7Wv/gdF/8AFVVop6gWv7Hu/wDnta/%2BB0X/AMVR/Y93/wA9rX/wOi/%2BKqrRRqBa/se7/wCe1r/4HRf/ABVdH4As5bT7X5rxHd5ePKnR/wC912k4rkq6j4bf8vv/AGz/APZqzq35GNbnUUUUVyFhRRRQAUUUUAFfnl/wT1%2BHd/4A/bY/a7XUbq3nkvvinFdLJbFiojuJL68RDkA7lS7VW7BgcEjBP6G18O/sQt/af7R37T/iTr5vxpnst3/XtbRpj8N1eXiqcZ5tgm91Ko//ACk7/mj7XhrB0J8NZ7jJr3qdCjCPl7XF0VLTrdUl6an0lRXz18Rf%2BCq37BPwn8dat8NPiB8ePsGt6HfSWeqWX/CL6pL5E6HDJvjtWRsHupI96xf%2BHzH/AATZ/wCjj/8Ayz9Y/wDkOu6efZHTm4yxVNNaNc8dGvmVQ8LvEvFUIVqOS4uUJpSjJYeq04tJppqFmmmmmtGmn1Pp%2Bivnr4df8FVv2Cfix460n4afD/48fb9b1y%2Bjs9Lsv%2BEX1SLz53OFTfJaqi5PdiB716D%2B1r8TPGvwb/Zr8afFD4dafYXWt6JoUtzp0WpztHAJBgb2Ko5O0EsF24YqFJUEsOzC47BY6DnhqkZpaNxadnvbQ%2BfzzhriPhmvChnGDq4ac1zRjVpypuSva6U0m1fS60voeiUV8469%2B3F8QtD0rVbmX4H6Q17Z%2BN7nw1penweKNQu5tSmtbeWa7mSGy0me48tNkaqVifO52k8lUUvi%2BEP%2BCgfiz4halbJ8Kfg%2BdYk8R2sGoaRbeIfFcdhDaW7eG9N1jaWhsZXXIvTHg%2BcfMGdyo22Po5keLZn1lof/ACGrP/r6j/8AQhVWvOIP2hNVb9ma9/ai0XwnCLaPwKPFPh%2Bwku2kluI/7OW8WOZQiiNt5MeEZwQA24Ftq81%2Bzz4x%2BLVv8QfEvwn8cfEeXxlcWPgDw54lsdW1CwtLVhcai%2BqQy2wFpDGnkB9NV0LK0gEzBnfapovqB7ZRXyN8GvjJ%2B0p44OofC7xV4%2B8bWXiWPwRo%2Bu6ot34K0yw1G21Rpbtb/SNMF5FDayxM0CLDcTCePasp8%2BXO%2BKXTfjJ%2B0N4g%2BFXgTxLpfxwuH8Zarq02kWXga28OWRm1O7s9Zlt9ROqO0LeXHa20fl3D2gt40nSUxyS%2Bdbx0cyCx9aUV8c%2BIvj/%2B0P8AC3w14rs/iR4y8eaf4x1S/wBXHgWw1fRdBOmXtoviOGztk0020Bm%2B2G1urKOEX5EbyXIdw6K7J7b%2ByB4/%2BIHjrwP4gtvibf6nJq2g%2BMb3S3tvEFvZR6paRIsUsUd7/Z4Fm0xjlWQNb5jMUsXJffQpJuwWPWaKKKoRa0//AI9L7/r1H/o2OqtWtP8A%2BPS%2B/wCvUf8Ao2OqtJbsAooopgFFFFABRRRQBah/5Atx/wBfUP8A6DLVWrUP/IFuP%2BvqH/0GWqtJdQCiiimAUUUUAFFFFAFrUP8Aj0sf%2BvU/%2BjZKq1a1D/j0sf8Ar1P/AKNkqrSWwBRRRTAKKKKACu88Gf8AItW3/A//AENq4Ou88Gf8i1bf8D/9Dasa/wAA47mpRRRXKWFFFFABRRRQAUUUUAFFFFABRRRQAUUUUAFFFFABRRRQAUUUUAFFcN4r/aS%2BDXgn4l2nwi8S%2BK5oNcvGs1Ecej3cttbvdyvFaR3F1HE1vavPJG6RJNIjSsAqBiQDW8QftUfArwv8SJfhPrnjKeHWYJxb3G3Q717SG6Nmb1bR7xITbJctajzlt2kErIysEIdcgHoVYPxD/wCQLF/19L/6C1ZfwX%2BPPw7/AGgPDa%2BMPhmPEEmmS20Fxa3mt%2BDtT0lLqGZN8UkP2%2B3h89CvO6PcBkZxkZ1PiH/yBYv%2Bvpf/AEFqun8aE9jxf9o/4H%2BG/wBpL4GeJ/gf4rIS08R6VJbC4Me8203DQzgd2jlVJAPVBXxzrup3XxF0zwz%2BxF%2B3jqlx8Ofip4UuYLn4T/GDTJd1nrNxbhUjuYJ5MATMAolt3K7yVI2OUUfflcp8Zfgb8JP2hPBU3w8%2BM/gKw8Q6PM4c2l9GcxyAECSN1IeJwCQHQhsEjPJrjzTKnjb1KbXNblalflnG9%2BWVtU09Yzi%2BaL7q6OfD185yXOqOdZLW9ji6OzesZR192as7p80ltJWlKMozhKUT510T9uD4x/snXq/D7/got4FmhsoyE0v4v%2BEdLludH1JMgA3UUSl7ObpkBdpOdqqoBP0f8MPjN8JfjXoK%2BJvhH8SNF8R2LAE3Gj6jHOE9nCklG9VYAjuK%2BeG/4J/fHb4KxSWn7Gv7ZGuaHojIV/4QX4gWCa/pQQ8eVC8p822jx1C7iecmvB/iR%2Bwx%2B0cmtv4n8U/8E%2Bfh3rmsxuWXxP8ABD4jT%2BFLnnrIIbj90ZD1P7s5Ocda8aOOz7LFy1KMpxXe8n8qlO/N5c9KMu7e59hPingTPXz51l2Iy3EP4qmEhHFYWT6yVDnhVpX3caU5QWvLTirRX6S0V%2BXa%2BLf29Pg2oXw5qH7V2hxw8eTrfgvTvHMCgfwtNviIXtuAyB0FOX/gqf8AttfDtgnibxB4VuoU/wBYfHnwn17Srgj2FksiA/Xir/1ywVLTEUZw%2BV1/7Y/wM3lvBOJ1wfEmD9K6xWEl81XwsoL/AMGv1P1Cq1qH/HpY/wDXqf8A0bJX5g6X/wAF8fG9g3k6t8I/Aevupw/9k%2BL7zS8nvgX9oMfjXaWX/BfnwfcWtsPE37OBtPKhKt/Z/wASdKuj99m4BMZ/i/StYcacN1H/ABresZf5NfiUuFKlVXw2Y4Csv7mY4F3%2BUq9KX3xR%2BgFFfCVn/wAHAf7J6Srba58K/H0Mjcf6DBpt2o/FLwH9K6bSf%2BC5P7FupqHm0bx9aA/8/HhXdj/v3K9dUOK%2BG6m2Kh97X5xNnwHxVa8KMJp/yYjCTv6cmNk/wPseivlS0/4LQfsDzKGv/iBr1j6/avB1/wAf98RNWjZ/8Fiv%2BCcV6dq/tHRxt3W48L6rHj/vq1ArojxDkMtsVT/8DivzsC4A44n8GW1pf4Yc/wD6ROZ9NUV892f/AAVZ/wCCe19jyf2ntEXP/Pa0uo//AEOEVp2v/BSv9gu8x5P7VPhEZ/566j5f/oQFbRznJ5bYmn/4HH/5IT8P%2BPIrXKcT/wCE9Z/lTZ7jVrXP%2BQ1ef9fUn/oRrxa1/wCCgX7D13/qv2svh%2BM/89fFNsn/AKE4rYv/ANt/9i/UNXupLL9rj4ZSB7lyu3x3p/ILHn/XVosyy6T0rw/8Dh/8kclTg7jCl8eW4lf9y9f/AOUno9FefW/7Wn7Kt3/x6/tM/D6XPTy/Gdi38pauwftI/s7XX/Ht8e/BcmemzxTaH%2BUlarGYOW1WP/gUf/kjknw9xDT%2BPBVl60ay/OkjtKK5eD44fBa5/wCPb4v%2BF5M9NniC2P8AJ6tw/FH4Z3P/AB7/ABF0KT/c1eE/yatFXoPaa%2B9f5nLPK8zp/Fh6i9ac1%2BcEbtFZkPjTwdcf8e/izTH/ANy/jP8AI1Zi1vRp/wDUavav/uXCn%2BtWpwezX3nPLD4iHxQkvVNfmjU0f/j7f/r1n/8ART1Vqzoskcl05jcMPss/IOf%2BWT1WprcyegUUUUxBRRRQAUUUUAWof%2BQLcf8AX1D/AOgy1Vq1D/yBbj/r6h/9BlqrSXUAooopgFFFFABXUfDb/l9/7Z/%2BzVy9dR8Nv%2BX3/tn/AOzVnV/hsa3OoooorjLCvkj49eOPG1l8dfF3iq0%2BIfiCx1Lwd45%2BHWk%2BFvD9lr1xDY3VhquqW0F401kjiG6NwLi8h8yVHMf2QNGUMbGvreub8TfBz4Q%2BNfFVn468ZfCvw3q%2Bt6fayW1hrGp6Hb3F1bQOGV4o5XQuiMHcFQQCHYEcmgDyb4gfDvSvG/7Z%2BheG9E8aeN7E2Ph658SeModO%2BI2swWk0UiHTrC0FnHdi3iSRjd3BaONWEmnoc5dzXkS/C34geNra18V/B/4m%2BJ5tI1f43XmnWHhbxL8fvEOnHUdK0jTNasJI4r3z7i6Dy6kkl6UgBEkFtAWXEJavsnTvCHhPR9VfXdI8Mada30mnW%2BnyXttZRpK1pA0jQW5dQCYo2mlKJnaplcgDcc5HiH4IfBfxd4KX4a%2BK/hD4X1Pw4l0blNA1DQLaayWcyNIZRA6GMOXd33YzudjnJJoAzP2YviFonxV/Z/8ACfj3w5pmo2Vnf6PH5Vpq2rSX9xEUzGyvdSO73WGRsTszGUYfJ3V8w/8ABOnSVk1z9orV7zUoYpLr9p/xaqiRXyY45IEX7qkdjX2jpOk6VoGlW2haFplvZWNlbpBZ2dpCscUESKFSNEUAKqqAAoAAAAFfIv7DWmfYLP4v3W3H239obxrNn1xqskf/ALTrhqQ5s2wz7Kr/AOkRR9tkddUuB87h/O8EvuxFaX6Hvn9n2n/Qctf%2B%2BJf/AIij%2Bz7T/oOWv/fEv/xFfN/xF/4KD/8ACu/HereBv%2BGIP2htd/sm%2Bktv7Y8OfDT7VYXmw482CXz18yM9Q2Bkdqxf%2BHnX/WPX9qD/AMNN/wDdNdE87yuE3GVXVafDP/5W/wAz8tnxBk9ObhKrqtH7tTp6Un%2BbPqr%2Bz7T/AKDlr/3xL/8AEVkfED4Z%2BCfij4I1b4c%2BOp7W%2B0bXLCWy1O0EtzEZYZFKsokjVXQ4PDIwZTggggGvBvh1/wAFB/8AhYnjvSfA3/DEH7Q2hf2tfR239seI/hp9lsLPecebPL57eXGOpbBwO1eqftCeO/Ffwt%2BC/iH4m%2BDNKt7678O2P9pz2NxC8n2i0gZZbqONUZT5zW6TCPkgSFCVYAqevDYzDY2DlRnzJaPRr/0qMfyZ24PH4THwcsPLmSdnpJa/9vRj%2BT9Snefsdfs9X%2Bm2umXVhKVs9ZuNViuF8R6stw91cReVcNJOJBLMkqfLJFIzRyfxKxqL4dfsV/s0/Ch7KTwJ4cis206Aw2TS61qdwYYjYwWGwec7/KLW2giVeirGNuDkn59%2BLn/BQ74s%2BF9C1b4hfDvw9oWqaFpb6rqqQrpfmNLoNpfR6fFcSXMuo26R/abiG9aKSGO5Zo3gxbtgtJR8CftRfGXRviBe/DfQ9Ws7nUNa8e6xpem634omvr6HT0fxp4gtkD24uo0eOO2skhiRTG2TEnmbFVBvdXOzU%2Bxvhr8H/h78P9EsPh/4ZMX9iW9raafb6Td3l3dRJawwR20cCrcbgqeVGqkcBjuZsszMee%2BGv7MfwZ%2BENs1t8P2nsw81u7yzeINUuZXSCJooLdpJ3dzbRo7BLYnyU3EqgPNch/wT88TfEPxr8LbTxR468Z22sSSeOvE8DzRrNIS8PijU4k8qaSZv9GWFIo4otvyJGoDEYUebfspeM/GOo/FHwJq2pePdd1O68eeC/FmqeM9L1LW57m2sr6y1jT4YVggkdo7IQG5ubXy4VjDhRvDNHuB1A9e039iH9mjSPD9x4b03RXihmmspIrlfEmr/AGuxFmZDaR2l0ZfPsoofNmEcUDxxxiaUKoEjglr%2BxJ%2Bztpms6b4g0N9Y0u80rTDp9tcaP4716zLwG6lu387yLhBcPJcTSSySS75JWbMjNgY%2BfYvGPjfw38b7jwz8Tfid4j0zSPEt340i8QeMLP4hRS6emnw6lEli1jAJpP7Nms1lgsZn8mBlmkbLTORKlOX/AIWFqfw3%2BI/wyuPiXrFr458JeINZk0Lwl/wuTVIre3gTSdJuTKmrlBe6ktut9FOI7jyYxLfPC4EcUMqmgH0lP%2BxT%2BzXdXOqXV9oIuTqsNxE8d1r2qSx2Sz3Ud3N9iR5CunlriKKYm1ER8yGNgcopHXfDf4P/AA/%2BE2hS%2BHvA90sMFzeyXl5Pe397e3N1cSY3zTXFz5k0zkBV3O7EKqqMBQBU%2BEXiOPxj8KPDHi6LU7q9XVfD1leLeX1osE84lgR/MkiUkRu27JQHCkkDpXQ1SQFr%2Bz7T/oOWv/fEv/xFH9n2n/Qctf8AviX/AOIqrRTs%2B4jTsbG1W2vANYtjm2AJCy/L%2B9Tk/J%2BHHrVb%2Bz7T/oOWv/fEv/xFGn/8el9/16j/ANGx1VpJO71Atf2faf8AQctf%2B%2BJf/iKP7PtP%2Bg5a/wDfEv8A8RVWinZ9wLX9n2n/AEHLX/viX/4ij%2Bz7T/oOWv8A3xL/APEVVoos%2B4Fr%2Bz7T/oOWv/fEv/xFH9n2n/Qctf8AviX/AOIqrRRZ9wNOKxtRpE6f2xbEG5iJbbLgfLJx9zP/AOqq39n2n/Qctf8AviX/AOIoh/5Atx/19Q/%2Bgy1VpJPuBa/s%2B0/6Dlr/AN8S/wDxFH9n2n/Qctf%2B%2BJf/AIiqtFOz7gWv7PtP%2Bg5a/wDfEv8A8RR/Z9p/0HLX/viX/wCIqrRRZ9wLX9n2n/Qctf8AviX/AOIo/s%2B0/wCg5a/98S//ABFVaKLPuBp31jatbWYOsWwxbEAlZfm/evyPk/Dn0qt/Z9p/0HLX/viX/wCIo1D/AI9LH/r1P/o2SqtJJ23Atf2faf8AQctf%2B%2BJf/iKP7PtP%2Bg5a/wDfEv8A8RVWinZ9wLX9n2n/AEHLX/viX/4ij%2Bz7T/oOWv8A3xL/APEVVoos%2B4Fr%2Bz7T/oOWv/fEv/xFdr4SjSLw/bxxzpIBvw6A4Pzt6gH9K4Cu88Gf8i1bf8D/APQ2rGtflKjualFFFcxQUUUUAFFFFABRRRQAUUUUAFFFFABRRRQAUUUUAFFFFABRRRQB8vfHb4JfGzVPin4t0vwj8M7rWNG8b%2BLvBXiIeJLbVLKNNKGi3trPdWskc88cpleOwj8ho0dDLdfvGiVCx1fiLoXxm%2BMH7RkNl4//AGdPE7%2BBfDKJN4Re21jRo7K91WfT3SXUL9xfG6VbcXElrHFHbuFkWSf99/o5j%2BjKKAPn39iP4YfFH4ZX%2BraRqXgbxf4R8D23hbQtP8PeFPG3jaLXbm31G3F0l5NbzR3VyIrVoTYRpHvQFoJGEEOT5ntHjuaODSI3ltY5gbkDbIWAHytz8pBraqh4i0T%2B3rJbP7V5W2UPu2bs4BGOo9aqDSkmxPY4j%2B0LT/oB2v8A33L/APF0f2haf9AO1/77l/8Ai63v%2BFbf9Rr/AMlv/sqP%2BFbf9Rr/AMlv/sq6faU%2B/wCZNmYP9oWn/QDtf%2B%2B5f/i6P7QtP%2BgHa/8Afcv/AMXW9/wrb/qNf%2BS3/wBlR/wrb/qNf%2BS3/wBlR7Sn3/MLMwf7QtP%2BgHa/99y//F0f2haf9AO1/wC%2B5f8A4ut7/hW3/Ua/8lv/ALKj/hW3/Ua/8lv/ALKj2lPv%2BYWZymq6V4R10bdc8CaReDGMXdu0n/oTGsPX/gJ%2Bzpq1vatq/wCzl4Fu/MtyW%2B1eG4X/AOWjjuOenfNej/8ACtv%2Bo1/5Lf8A2VS3HgDz4oIv7Wx5MRTPkdfnZs/e4%2B9j8KynDC1H78U/VJ/mmZTw9Gr8cE/VJ/mmeH3/AOxz%2BxbqmTqH7GfwslJ/ibwVa7vz25rHvP2AP2Db7Jn/AGMvh0uf%2BePh8R/%2BgMK%2Bg/8AhW3/AFGv/Jb/AOyo/wCFbf8AUa/8lv8A7KueWBymfxUYP/tyP/yJzSyrLJ/Fh6b/AO3If/IHzTdf8E1P%2BCfF5nzv2PfBoz/zyiuY/wD0GYVn3P8AwSu/4Jz3WfN/ZG8OjP8Azz1HUU/9BuhX1N/wrb/qNf8Akt/9lR/wrb/qNf8Akt/9lWTynI5b4en/AOAR/wAjCWQ5LLfC0/8AwXD/AORPkyf/AIJHf8E2Lj/Wfsm6UP8Ac8Sawv8A6Deiqkv/AAR1/wCCaMpyv7LNtGfWPxjrg/8Ab6vr7/hW3/Ua/wDJb/7Kj/hW3/Ua/wDJb/7Ks3knDz3w1P8A8Aj/AJGb4byB/wDMHS/8Fx/yPjeb/gjN/wAE3pfufs8SR/7njHWP63ZqLWP%2BCJf/AATih1G4tYPgleqsUzopHi7UicAkDrPX2b/wrb/qNf8Akt/9lUt94A%2B23s15/a23zZWfb5GcZOcfeqHkPDjf%2B60//AEaRyLJ4fDh4L0VvyaPh6X/AIIi/wDBO2T7nwo1VP8Ad8VX39ZTVeT/AIIc/wDBPZ/u/D3XE/3fFF1/VjX3J/wrb/qNf%2BS3/wBlR/wrb/qNf%2BS3/wBlUvh7hp/8wtP/AMBN45Xgo/DC3pKa/Koj4Uk/4IX/APBP1/u%2BD/Ea/wC74nm/rUT/APBCb9gN/u%2BH/FC/7viV/wCq194f8K2/6jX/AJLf/ZUf8K2/6jX/AJLf/ZVP%2BrnDL/5haf8A4D/wTRYKlHbmX/cSqvyrI%2BCn/wCCD37BLdNO8XL9PEh/rHUTf8EF/wBg5jkReMh9PEa//Gq%2B%2Bv8AhW3/AFGv/Jb/AOyo/wCFbf8AUa/8lv8A7Kl/q1wv/wBAsP8AwH/gmiw7W06n/g2v/wDLz4Isv%2BCBX7CV3O0Zu/HMeIZHBj8RR5yqMw6wHuKgH/BBf9idDmDxJ8Qo/wDc8SQj/wBt6/QOz8AfZJTL/a27MTpjyMfeQrn73vmov%2BFbf9Rr/wAlv/sqX%2BrXDF/91h9z/wAyvZVP%2BftT/wAHYj/5oPgMf8EIf2PU/wBT8QPibH/ueKIB/wC21OX/AIIXfspx/wCp%2BLXxXT/c8WQD/wBta%2B%2Bv%2BFbf9Rr/AMlv/sqP%2BFbf9Rr/AMlv/sqf%2BrfDP/QND7n/APJEug3vUqf%2BDq//AM0HwSv/AAQ7/Znj/wBT8cvjCn%2B54wgH/trUif8ABEj9nmP/AFX7Q/xpT/d8awD/ANtK%2B8v%2BFbf9Rr/yW/8AsqP%2BFbf9Rr/yW/8Asqf%2BrvDa/wCYeP8A5N/8mQ8JB7yn/wCDa3/y8%2BEU/wCCLHwNj/1X7TfxyT/d8cwD/wBtKlT/AIIzfB2MYi/at%2BPKf7vj2Ef%2B2lfdP/Ctv%2Bo1/wCS3/2VH/Ctv%2Bo1/wCS3/2VV/q/w6v%2BXEfvn/8AJkPL8PLfm/8ABtb/AOXnxFB/wRw%2BFyabLcRfthftBIUnjUKnxDhAOVc5/wCPTrx%2Bppqf8Ehfh/F/qv2z/wBodfTb8Roh/wC2tfcieANllJZ/2t/rJUfd5HTaGGPvf7X6VF/wrb/qNf8Akt/9lTWQ5Av%2BXK%2B%2Bf/ywzeU4KW8Zf%2BDKv/y4%2BJU/4JJ%2BD4/9X%2B29%2B0av0%2BJcY/8AbWpU/wCCUXh2P/V/t2ftJr/u/E9B/wC2tfav/Ctv%2Bo1/5Lf/AGVH/Ctv%2Bo1/5Lf/AGVV/YeRL/l0vvqf/LDJ5Hlst4P/AMDq/wDy4%2BME/wCCWGmR/wCr/b5/aZX6fFNR/wC2tP8A%2BHXkKrtj/wCCgn7Ti%2Bn/ABdX/wC5q%2BzP%2BFbf9Rr/AMlv/sqP%2BFbf9Rr/AMlv/sqf9i5Iv%2BXf/k1T/wCWEPh7KHvS/wDJqn/y0%2BMH/wCCXtwfuf8ABQ39pkfX4pE/%2B0K96/Yc/ZduP2bD4o8/9on4l%2BPv7a%2Bxbf8AhYnic6l9g8n7R/x7/Ivl7/N%2Bfru8tP7teq/8K2/6jX/kt/8AZVqeG/Df/CPed/pvnedt/wCWe3GM%2B59aunleV4eaqUYWktvem/wc2vwN8Nk%2BW4SqqtKklJbO835dakl%2BDNSiiiuk9QKKKKACiiigArxvwz8JPDHwaudc0DwrPdyxat4o1PXruS8kVnN1qF3JeTAbVUBFeZlQYyEVQSxyx9krB1rwT/a%2Bpy6j/afl%2BZt%2BTyc4woHXcPSqpqmqqnJaq9n62v8AfY2jicTTw06EJNQm4uS6Nwbcb/4XJterONorqP8AhW3/AFGv/Jb/AOyo/wCFbf8AUa/8lv8A7Kur2tPuc1mcvTJ4ILqB7a5hSSORCskcigqykYIIPUEdq6v/AIVt/wBRr/yW/wDsqP8AhW3/AFGv/Jb/AOyo9rT7hZnkmp/s5fs961pGlaBrHwI8GXdhoWlSaZollc%2BF7SSHT7GSMRyWsCNGVihaMBGjUBSowRjipJ/2ffgLc6Lc%2BGrn4I%2BEJNOvI9l3p7%2BGrUwTr9pe72uhj2sPtMkk%2BCP9a7P94k16v/wrb/qNf%2BS3/wBlR/wrb/qNf%2BS3/wBlR7SmFmcP8N/hx8PPAOq2Nv4F8B6LosaTCNE0nS4bYKj3DzuoEajAaaWWUju8jseWJOVZfBr4P6bqesa1p3wp8NW954hlSXxBdw6FbpLqbq%2B9WuGCZmIYlgXJIJz1r1Kx8AfYr2G8/tbd5Uqvt8jGcHOPvVF/wrb/AKjX/kt/9lS9pTuFmeZRfBn4Pwavruvw/Cjw0l/4otzB4mvV0K3E2rxFdpjun2brhdvG1ywxxWfcfs1/s53fg%2B1%2BHl18AfBUugWF413Y6HJ4Vs2s7e4bO6ZITHsRzubLAAnJ55r13/hW3/Ua/wDJb/7Kj/hW3/Ua/wDJb/7Kn7SmFmcsiJGgjjQKqjCqBgAelLXUf8K2/wCo1/5Lf/ZUf8K2/wCo1/5Lf/ZUe1p9wszl6K6j/hW3/Ua/8lv/ALKj/hW3/Ua/8lv/ALKj2tPuFmYOn/8AHpff9eo/9Gx1VrrbfwB5EU8X9rZ86IJnyOnzq2fvc/dx%2BNRf8K2/6jX/AJLf/ZUlVhfcLM5eiuo/4Vt/1Gv/ACW/%2Byo/4Vt/1Gv/ACW/%2Byp%2B1p9wszl6K6j/AIVt/wBRr/yW/wDsqP8AhW3/AFGv/Jb/AOyo9rT7hZnL0V1H/Ctv%2Bo1/5Lf/AGVH/Ctv%2Bo1/5Lf/AGVHtafcLMwYf%2BQLcf8AX1D/AOgy1VrrU8AbLKSz/tb/AFkqPu8jptDDH3v9r9Ki/wCFbf8AUa/8lv8A7KkqsO4WZy9FdR/wrb/qNf8Akt/9lR/wrb/qNf8Akt/9lT9rT7hZnL0V1H/Ctv8AqNf%2BS3/2VH/Ctv8AqNf%2BS3/2VHtafcLM5eiuo/4Vt/1Gv/Jb/wCyo/4Vt/1Gv/Jb/wCyo9rT7hZmDqH/AB6WP/Xqf/RslVa6248AefFBF/a2PJiKZ8jr87Nn73H3sfhUX/Ctv%2Bo1/wCS3/2VJVYW3CzOXorqP%2BFbf9Rr/wAlv/sqP%2BFbf9Rr/wAlv/sqftafcLM5eiuo/wCFbf8AUa/8lv8A7Kj/AIVt/wBRr/yW/wDsqPa0%2B4WZy9d54M/5Fq2/4H/6G1Zf/Ctv%2Bo1/5Lf/AGVb2i6b/ZGmRad53meXu%2BfbjOWJ6ZPrWdWcZRshpNMtUUUVzlBRRRQAUUUUAFFFFABRRRQAUUUUAFFFFABRRRQAUUUUAFFFFABRRRQAV89/Fj9qP4qeDvizrsfhux8PHwf4L8T%2BE9B8R2l9YTvqN/PrV3bwNNbzrOsdulul5bSbWhlMxWVMx/K1fQleW%2BO/2TPAfj/4pj4nal4p8QWsVxfaPfa34asri3XTtYu9KuPtGn3FwHhaYPDKI2/dSxrJ5ESyCRUAoA9SooooAKKKKACiiigDif2kPGXxG%2BHnwI8V%2BO/hPp%2Bi3Ov6Nos97Yx%2BIZJRZr5Sl3eQQ/PJtQMwjBTzGATzIwxkXxXw5%2B2T8ZNc1yDxdJpfhiPwlpnjTwr4Q8RacNOuDqFxqGs6bpl0Lu3uPtHlxQxyazZJ5LxSMyxzHzV%2BUV718Y/hq3xh%2BGmr/DNvHOs%2BHYdasntLvU9AS0N0sEilZEX7XBPENykqSYyQDlSpwR5l4E/YM8C%2BCdZ0nU7r4ueNtbt9O1Gw1O90rVZtOW11fUrG3W2sr65W2somMsMEVrGoiaONvsVu0iO6F2APc6KKKACiiigAooooA8Y/bM%2BL3xx%2BB3gSb4kfC1vCDWem6dM40nXrO6ub/wAR6qzxJY6NZJDLEsMty7PGJ2MxV2j/AHDLuIw/2Uf2o/ip8YNc8ISfEix8PLpvxO%2BFy%2BPPB0WiWE8E%2Bl2fm2oNndvLPKtzKItRsz50awqWWYeXjaa7b4y/s0p8X/iT4Z%2BKUHxp8XeGdR8JWt5Fo8OhQaTPbpJchFkuTHqFjcgXAjQxLKu1ljlmQYEr7ovgZ%2ByZ4D%2BAmuJrXh7xV4g1VNP0BdB8MWOt3Fu8Ph7SFl80WFoIYI28rIiXdM0sm23hXfhAKAPUqKKKACiiigAooooA%2BUv2t/2xP2if2bfjD4c8DWOn%2BELy18eeKbHQPC9td%2BHNTRLA300dnbXk%2BpNMlteSrdvuk0u3RbgW%2B6YSBI2c%2Bz/s5/E/xr8QLLxZ4Y%2BJI0uTxB4I8Yz6Dql9olnJbWl7i2tryGeOGWWZ4c295CGQyyYdXwxGK5P4r/sF/Dz4zeI/7Y8afFTx09ja%2BJv%2BEm0DQYtVtvsuh68ITFFqdqz2zTrJEWeRIpJZLZZHLeT0x6L8HPg/ovwa8PX2kad4g1TWb3V9YuNV1zXdbeE3epXk20NLJ5EUUS4RI41WONFVIkULxQB1tFFFABRRRQAVFfX1lpllNqWpXkVvbW8TS3FxPIESJFGWZmPCgAEkngAVLVbWdG0fxHo934e8Q6VbX9hf20lvfWN7AssNxC6lXjkRgVdGUkFSCCCQaAPj/wAMft3ftN/GP44a98H/AIX%2BFfB%2Bgq2iah4o8IXnifSby5e50K1ttN8sXEcdzCY57uXU4JlbjyICVeKSQGvqX4N/Eey%2BMfwg8KfF3TbB7W28VeG7HWLe1kbc0KXNukyoTgZIDgZ9q8buP%2BCY37NWj%2BN9a%2BI3wbt774Z6zr1m1hf3fw7sdN0/Ng9ukM1mqGzdRFJ5cUpODIssavG8Zzn3nwt4Z0LwV4Y07wb4W02Oz0zSLCGy06ziztggiQJHGM84VVAH0oAv0UUUAFFFFABRRRQAUUUUAFFFFABRRRQBifErxvY/DP4c6/8AEjU7WSe28P6Jd6lcQxHDSJBC0rKPchCBXmP7M3xs%2BMXjLxtqHw1%2BN8fhuTVE8C6B4rsrrwvp9xbQxQ6k99E9k6zzzGR4JLI/vwUEqzL%2B6jKnPr%2BuaLpXiTRbzw7rtjHdWN/ayW15bSjKzROpV0PsVJB%2BtcD8Bf2ZvDHwEur3VbHxv4k8SajeaNpujJqfie5t5Z7fS7AT/Y7JDBBCCkZubht7h5naZjJI5xgA9IooooAKKKKACiiigD59/a9/au%2BJ37L/AIyi1weFNCv/AAVbfDjxN4gvlaaY6ndXelWL3nkxkYigi2Kq7iJWcyniIR5l634CfE34t6p8RfF3wU%2BOM/hy81/wzpukaouqeFdMns7Sa11BblVjMM887iSOayuQX8zDoYztQ5FV/j5%2Bx/4d/aL8bab4o8cfFjxZb6XYaVe6ZP4S0%2BPS/wCzr%2B0vYvJvYZjNZSXJE8P7tikyFV5jKN81dD8FfgFpPwZudY1qXx74i8V63rv2VNS8Q%2BKp7Z7uSC2i8q3t/wDRoIYxHGGkYfJuZ5pGZmZiaAO8ooooAKKKKACiiigD5Q%2BIn7Vn7Vvg79qnwn%2By3Zy/Dm41Dx/fX8dtfWei391F4LjhjubyzXUD9riN/Le2NjfNGqC02S2r/wCsTDH3T9mr4q6z8Zvg5p3jjxNp1ra6st7qGmaxFYbvs5vbC%2Bnsbh4g5LCJpbaRkDEkKygkkZPn2m/sC6Npd9darbftIfEX7ZJ4wufFVjfNFoX2iw1ifzEe7SX%2By98xFrNNZLHcGaNbWTygnyRFPWfhL8L/AA18Gfh3pnw08JPdSWWmRMBc30wkuLqV3aWa4lcABpZZXeRyAAWdiABxQB0dFFFABRRRQAVleNz42HhHUR8N10o68bVhpJ1tpBaLORhWmEQ3sgPJVcFsY3LncNWsT4keBNP%2BJvgbU/Aep6vqenxalbGL%2B0NGvTb3dq%2BQySwyDO11YKwyCpIwwYEggHx54a/4KJftEa3c/FWeKx8IS6d8D9Ps9Z8VzXvg7U9Lvtf064ec%2BXFYXN55%2Bi3Ecdje4F0JzMDayrGscwNfb1fPf/Dub4ZXPiXxB4w1v4ueO9R1PxvcWrfEi5ubvTkHi%2BC2EK21reJFZIkcMUcPlKLVbdmSWUOzmRifoSgAooooAKKKKACvKv2w/j9r/wCz/wDBvUNd%2BHui2ereMr20uU8KaTfl/Ikmit5LiW4uNhDfZ4IYpJpMMpYII1YSSx59Vrh/jt%2Bzd8EP2lfCcvhH40/DHQvEERsrq2sbrVdFtrufTvPj2SS2zTxuIZMBTuA6ouc4FAHjX7OX7Yvxi%2BK2s%2BB/FnjDTPDMXhT4h%2BJ/EPhnSNO03TriPULC/wBIF4JLiWd7h45oZm0u%2BIjWJGjDwAvId1fTteL/AAU/YX%2BEnwF1/RL3wPr%2BvnRfC4vJPCng%2B5ltRpei3N2gW6ubdIrdJBJLmYlXkaNDcz%2BWiB8D2igAooooAKKKKACiiigAooooAKKKKACiiigAooooAKKKKACiiigAooooAKKKKACiiigAooooAKKKKACiiigAooooAKKKKACiiigAooooAKKKKACiiigAooooAKKKKACiiigAooooAKKKKACiiigAooooAKKKKACiiigAooooAKKKKACiiigAooooAKKKKACiiigAooooAKKKKACiiigAooooAKKKKACiiigAooooAKKKKACiiigAooooAKKKKACiiigAooooAKKKKACiiigAooooAKKKKACiiigAooooAKKKKACiiigAooooAKKKKACiiigAooooAKKKKAP/2Q%3D%3D\">"
      ]
     },
     "metadata": {
      "tags": []
     }
    }
   ]
  },
  {
   "metadata": {
    "id": "S6eNDzMU-zBI",
    "colab_type": "text"
   },
   "cell_type": "markdown",
   "source": [
    "# Adding more layers"
   ]
  },
  {
   "metadata": {
    "id": "z8zY0hrj-zBI",
    "colab_type": "text"
   },
   "cell_type": "markdown",
   "source": [
    "Let's add a couple of hidden layers and see how that improves our validation accuracy.\n",
    "\n",
    "Previously we've coded a dense layer with matrix multiplication by hand. \n",
    "But this is not convinient, you have to create a lot of variables and your code becomes a mess. \n",
    "In TensorFlow there's an easier way to make a dense layer:\n",
    "```python\n",
    "hidden1 = tf.layers.dense(inputs, 256, activation=tf.nn.sigmoid)\n",
    "```\n",
    "\n",
    "That will create all the necessary variables automatically.\n",
    "Here you can also choose an activation function (rememeber that we need it for a hidden layer!).\n",
    "\n",
    "Now add 2 hidden layers to the code above and restart training.\n",
    "You're aiming for ~0.97 validation accuracy here."
   ]
  },
  {
   "metadata": {
    "id": "bGdmg1Dx-zBK",
    "colab_type": "code",
    "colab": {},
    "ExecuteTime": {
     "end_time": "2025-03-06T15:56:21.240846Z",
     "start_time": "2025-03-06T15:56:21.089839Z"
    }
   },
   "cell_type": "code",
   "source": [
    "# you can write the code here to get a new `step` operation and then run cells with training loop above\n",
    "# name your variables in the same way (e.g. logits, probas, classes, etc) for safety\n",
    "\n",
    "model = keras.Sequential()\n",
    "model.add(keras.layers.Dense(256, input_shape=(784,), activation=tf.nn.sigmoid))\n",
    "model.add(keras.layers.Dense(256, activation=tf.nn.sigmoid))\n",
    "model.add(keras.layers.Dense(10, activation='softmax'))\n",
    "\n",
    "# probas = tf.nn.softmax(logits) ### apply tf.nn.softmax to logits\n",
    "# classes = tf.argmax(probas, 1) ### apply tf.argmax to find a class index with highest probability\n",
    "# loss = tf.reduce_mean(tf.nn.softmax_cross_entropy_with_logits(logits=logits, labels=input_y)) ### cross-entropy loss\n",
    "\n",
    "model.compile(\n",
    "    loss='categorical_crossentropy',  # we train 10-way classification\n",
    "    optimizer=tf.keras.optimizers.RMSprop(lr=0.001),  # for SGD\n",
    "    metrics=['accuracy']  # report accuracy during training\n",
    ")\n",
    "\n",
    "# Use a default tf.train.AdamOptimizer to get an SGD step\n",
    "#step = tf.train.AdamOptimizer(1e-4).minimize(loss)\n",
    "# step = tf.train.RMSPropOptimizer(0.001).minimize(loss)\n",
    "\n"
   ],
   "outputs": [
    {
     "name": "stderr",
     "output_type": "stream",
     "text": [
      "C:\\Users\\assaf\\.conda\\envs\\icmla-sampling-intrinsic-dimension-research\\lib\\site-packages\\keras\\optimizers\\optimizer_v2\\rmsprop.py:140: UserWarning: The `lr` argument is deprecated, use `learning_rate` instead.\n",
      "  super().__init__(name, **kwargs)\n"
     ]
    }
   ],
   "execution_count": 9
  },
  {
   "metadata": {
    "id": "qUL8e5neMscl",
    "colab_type": "code",
    "colab": {
     "base_uri": "https://localhost:8080/",
     "height": 309
    },
    "outputId": "ec9b90a9-5c48-4464-eabc-324c0d56be46",
    "ExecuteTime": {
     "end_time": "2025-03-06T16:14:32.030639Z",
     "start_time": "2025-03-06T16:14:31.878642Z"
    }
   },
   "cell_type": "code",
   "source": [
    "# tf.compat.v1.enable_eager_execution()\n",
    "# s.run(tf.compat.v1.global_variables_initializer())\n",
    "\n",
    "BATCH_SIZE = 512\n",
    "EPOCHS = 40\n",
    "\n",
    "\n",
    "# for logging the progress right here in Jupyter (for those who don't have TensorBoard)\n",
    "# simpleTrainingCurves = matplotlib_utils.SimpleTrainingCurves(\"cross-entropy\", \"accuracy\")\n",
    "\n",
    "# fit model\n",
    "model.fit(\n",
    "    X_train_flat, y_val_oh,  # prepared data\n",
    "    batch_size=BATCH_SIZE,\n",
    "    epochs=EPOCHS,\n",
    "    # callbacks=[\n",
    "    #     # tf.keras.callbacks.LearningRateScheduler(lr_scheduler),\n",
    "    #     #        LrHistory(),\n",
    "    #            # keras_utils.TqdmProgressCallback(),\n",
    "    #            keras_utils.ModelSaveCallback(model_filename)],\n",
    "    validation_data=(X_test, y_test),\n",
    "    shuffle=True,\n",
    "    verbose=0,\n",
    "    # initial_epoch=last_finished_epoch or 0,\n",
    ")\n",
    "\n",
    "for epoch in range(EPOCHS):  # we finish an epoch when we've looked at all training samples\n",
    "    \n",
    "    batch_losses = []\n",
    "    for batch_start in range(0, X_train_flat.shape[0], BATCH_SIZE):  # data is already shuffled\n",
    "        _, batch_loss = s.run(model, {input_X: X_train_flat[batch_start:batch_start+BATCH_SIZE],\n",
    "                                             input_y: y_train_oh[batch_start:batch_start+BATCH_SIZE]})\n",
    "        # collect batch losses, this is almost free as we need a forward pass for backprop anyway\n",
    "        batch_losses.append(batch_loss)\n",
    "\n",
    "    train_loss = np.mean(batch_losses)\n",
    "    val_loss = s.run(loss, {input_X: X_val_flat, input_y: y_val_oh})  # this part is usually small\n",
    "    train_accuracy = accuracy_score(y_train, s.run(classes, {input_X: X_train_flat}))  # this is slow and usually skipped\n",
    "    valid_accuracy = accuracy_score(y_val, s.run(classes, {input_X: X_val_flat}))  \n",
    "    simpleTrainingCurves.add(train_loss, val_loss, train_accuracy, valid_accuracy)"
   ],
   "outputs": [
    {
     "ename": "ValueError",
     "evalue": "Data cardinality is ambiguous:\n  x sizes: 50000\n  y sizes: 10000\nMake sure all arrays contain the same number of samples.",
     "output_type": "error",
     "traceback": [
      "\u001B[1;31m---------------------------------------------------------------------------\u001B[0m",
      "\u001B[1;31mValueError\u001B[0m                                Traceback (most recent call last)",
      "Cell \u001B[1;32mIn[14], line 12\u001B[0m\n\u001B[0;32m      5\u001B[0m EPOCHS \u001B[38;5;241m=\u001B[39m \u001B[38;5;241m40\u001B[39m\n\u001B[0;32m      8\u001B[0m \u001B[38;5;66;03m# for logging the progress right here in Jupyter (for those who don't have TensorBoard)\u001B[39;00m\n\u001B[0;32m      9\u001B[0m \u001B[38;5;66;03m# simpleTrainingCurves = matplotlib_utils.SimpleTrainingCurves(\"cross-entropy\", \"accuracy\")\u001B[39;00m\n\u001B[0;32m     10\u001B[0m \n\u001B[0;32m     11\u001B[0m \u001B[38;5;66;03m# fit model\u001B[39;00m\n\u001B[1;32m---> 12\u001B[0m \u001B[43mmodel\u001B[49m\u001B[38;5;241;43m.\u001B[39;49m\u001B[43mfit\u001B[49m\u001B[43m(\u001B[49m\n\u001B[0;32m     13\u001B[0m \u001B[43m    \u001B[49m\u001B[43mX_train_flat\u001B[49m\u001B[43m,\u001B[49m\u001B[43m \u001B[49m\u001B[43my_val_oh\u001B[49m\u001B[43m,\u001B[49m\u001B[43m  \u001B[49m\u001B[38;5;66;43;03m# prepared data\u001B[39;49;00m\n\u001B[0;32m     14\u001B[0m \u001B[43m    \u001B[49m\u001B[43mbatch_size\u001B[49m\u001B[38;5;241;43m=\u001B[39;49m\u001B[43mBATCH_SIZE\u001B[49m\u001B[43m,\u001B[49m\n\u001B[0;32m     15\u001B[0m \u001B[43m    \u001B[49m\u001B[43mepochs\u001B[49m\u001B[38;5;241;43m=\u001B[39;49m\u001B[43mEPOCHS\u001B[49m\u001B[43m,\u001B[49m\n\u001B[0;32m     16\u001B[0m \u001B[43m    \u001B[49m\u001B[38;5;66;43;03m# callbacks=[\u001B[39;49;00m\n\u001B[0;32m     17\u001B[0m \u001B[43m    \u001B[49m\u001B[38;5;66;43;03m#     # tf.keras.callbacks.LearningRateScheduler(lr_scheduler),\u001B[39;49;00m\n\u001B[0;32m     18\u001B[0m \u001B[43m    \u001B[49m\u001B[38;5;66;43;03m#     #        LrHistory(),\u001B[39;49;00m\n\u001B[0;32m     19\u001B[0m \u001B[43m    \u001B[49m\u001B[38;5;66;43;03m#            # keras_utils.TqdmProgressCallback(),\u001B[39;49;00m\n\u001B[0;32m     20\u001B[0m \u001B[43m    \u001B[49m\u001B[38;5;66;43;03m#            keras_utils.ModelSaveCallback(model_filename)],\u001B[39;49;00m\n\u001B[0;32m     21\u001B[0m \u001B[43m    \u001B[49m\u001B[43mvalidation_data\u001B[49m\u001B[38;5;241;43m=\u001B[39;49m\u001B[43m(\u001B[49m\u001B[43mX_test\u001B[49m\u001B[43m,\u001B[49m\u001B[43m \u001B[49m\u001B[43my_test\u001B[49m\u001B[43m)\u001B[49m\u001B[43m,\u001B[49m\n\u001B[0;32m     22\u001B[0m \u001B[43m    \u001B[49m\u001B[43mshuffle\u001B[49m\u001B[38;5;241;43m=\u001B[39;49m\u001B[38;5;28;43;01mTrue\u001B[39;49;00m\u001B[43m,\u001B[49m\n\u001B[0;32m     23\u001B[0m \u001B[43m    \u001B[49m\u001B[43mverbose\u001B[49m\u001B[38;5;241;43m=\u001B[39;49m\u001B[38;5;241;43m0\u001B[39;49m\u001B[43m,\u001B[49m\n\u001B[0;32m     24\u001B[0m \u001B[43m    \u001B[49m\u001B[38;5;66;43;03m# initial_epoch=last_finished_epoch or 0,\u001B[39;49;00m\n\u001B[0;32m     25\u001B[0m \u001B[43m)\u001B[49m\n\u001B[0;32m     27\u001B[0m \u001B[38;5;28;01mfor\u001B[39;00m epoch \u001B[38;5;129;01min\u001B[39;00m \u001B[38;5;28mrange\u001B[39m(EPOCHS):  \u001B[38;5;66;03m# we finish an epoch when we've looked at all training samples\u001B[39;00m\n\u001B[0;32m     29\u001B[0m     batch_losses \u001B[38;5;241m=\u001B[39m []\n",
      "File \u001B[1;32m~\\.conda\\envs\\icmla-sampling-intrinsic-dimension-research\\lib\\site-packages\\keras\\utils\\traceback_utils.py:70\u001B[0m, in \u001B[0;36mfilter_traceback.<locals>.error_handler\u001B[1;34m(*args, **kwargs)\u001B[0m\n\u001B[0;32m     67\u001B[0m     filtered_tb \u001B[38;5;241m=\u001B[39m _process_traceback_frames(e\u001B[38;5;241m.\u001B[39m__traceback__)\n\u001B[0;32m     68\u001B[0m     \u001B[38;5;66;03m# To get the full stack trace, call:\u001B[39;00m\n\u001B[0;32m     69\u001B[0m     \u001B[38;5;66;03m# `tf.debugging.disable_traceback_filtering()`\u001B[39;00m\n\u001B[1;32m---> 70\u001B[0m     \u001B[38;5;28;01mraise\u001B[39;00m e\u001B[38;5;241m.\u001B[39mwith_traceback(filtered_tb) \u001B[38;5;28;01mfrom\u001B[39;00m \u001B[38;5;28;01mNone\u001B[39;00m\n\u001B[0;32m     71\u001B[0m \u001B[38;5;28;01mfinally\u001B[39;00m:\n\u001B[0;32m     72\u001B[0m     \u001B[38;5;28;01mdel\u001B[39;00m filtered_tb\n",
      "File \u001B[1;32m~\\.conda\\envs\\icmla-sampling-intrinsic-dimension-research\\lib\\site-packages\\keras\\engine\\data_adapter.py:1851\u001B[0m, in \u001B[0;36m_check_data_cardinality\u001B[1;34m(data)\u001B[0m\n\u001B[0;32m   1844\u001B[0m     msg \u001B[38;5;241m+\u001B[39m\u001B[38;5;241m=\u001B[39m \u001B[38;5;124m\"\u001B[39m\u001B[38;5;124m  \u001B[39m\u001B[38;5;132;01m{}\u001B[39;00m\u001B[38;5;124m sizes: \u001B[39m\u001B[38;5;132;01m{}\u001B[39;00m\u001B[38;5;130;01m\\n\u001B[39;00m\u001B[38;5;124m\"\u001B[39m\u001B[38;5;241m.\u001B[39mformat(\n\u001B[0;32m   1845\u001B[0m         label,\n\u001B[0;32m   1846\u001B[0m         \u001B[38;5;124m\"\u001B[39m\u001B[38;5;124m, \u001B[39m\u001B[38;5;124m\"\u001B[39m\u001B[38;5;241m.\u001B[39mjoin(\n\u001B[0;32m   1847\u001B[0m             \u001B[38;5;28mstr\u001B[39m(i\u001B[38;5;241m.\u001B[39mshape[\u001B[38;5;241m0\u001B[39m]) \u001B[38;5;28;01mfor\u001B[39;00m i \u001B[38;5;129;01min\u001B[39;00m tf\u001B[38;5;241m.\u001B[39mnest\u001B[38;5;241m.\u001B[39mflatten(single_data)\n\u001B[0;32m   1848\u001B[0m         ),\n\u001B[0;32m   1849\u001B[0m     )\n\u001B[0;32m   1850\u001B[0m msg \u001B[38;5;241m+\u001B[39m\u001B[38;5;241m=\u001B[39m \u001B[38;5;124m\"\u001B[39m\u001B[38;5;124mMake sure all arrays contain the same number of samples.\u001B[39m\u001B[38;5;124m\"\u001B[39m\n\u001B[1;32m-> 1851\u001B[0m \u001B[38;5;28;01mraise\u001B[39;00m \u001B[38;5;167;01mValueError\u001B[39;00m(msg)\n",
      "\u001B[1;31mValueError\u001B[0m: Data cardinality is ambiguous:\n  x sizes: 50000\n  y sizes: 10000\nMake sure all arrays contain the same number of samples."
     ]
    }
   ],
   "execution_count": 14
  },
  {
   "metadata": {},
   "cell_type": "code",
   "outputs": [],
   "execution_count": null,
   "source": ""
  }
 ]
}
